{
 "cells": [
  {
   "cell_type": "code",
   "execution_count": 1,
   "metadata": {},
   "outputs": [],
   "source": [
    "import numpy as np"
   ]
  },
  {
   "cell_type": "code",
   "execution_count": 10,
   "metadata": {},
   "outputs": [],
   "source": [
    "class Layer:\n",
    "    def __init__(self, input_size, num_nodes) -> None:\n",
    "        self.w = np.random.rand(num_nodes, input_size)\n",
    "        self.b = np.random.rand(num_nodes, 1)\n",
    "\n",
    "    def forward(self, batch):\n",
    "        return np.matmul(self.w, batch) + self.b"
   ]
  },
  {
   "cell_type": "code",
   "execution_count": 20,
   "metadata": {},
   "outputs": [
    {
     "name": "stdout",
     "output_type": "stream",
     "text": [
      "[[0.65037432 0.92510431 0.41783981]\n",
      " [0.62640228 0.68410345 0.85295562]\n",
      " [0.70074065 0.93311316 0.20845583]\n",
      " [0.32386497 0.6581439  0.30184392]]\n",
      "[[0.57531002]\n",
      " [0.86978512]\n",
      " [0.62842034]\n",
      " [0.93010683]]\n",
      "[[1. 1. 1. 1. 1. 1. 1. 1. 1. 1.]\n",
      " [1. 1. 1. 1. 1. 1. 1. 1. 1. 1.]\n",
      " [1. 1. 1. 1. 1. 1. 1. 1. 1. 1.]]\n",
      "[[2.56862846 2.56862846 2.56862846 2.56862846 2.56862846 2.56862846\n",
      "  2.56862846 2.56862846 2.56862846 2.56862846]\n",
      " [3.03324648 3.03324648 3.03324648 3.03324648 3.03324648 3.03324648\n",
      "  3.03324648 3.03324648 3.03324648 3.03324648]\n",
      " [2.47072999 2.47072999 2.47072999 2.47072999 2.47072999 2.47072999\n",
      "  2.47072999 2.47072999 2.47072999 2.47072999]\n",
      " [2.21395962 2.21395962 2.21395962 2.21395962 2.21395962 2.21395962\n",
      "  2.21395962 2.21395962 2.21395962 2.21395962]]\n",
      "[2.56862846 3.03324648 2.47072999 2.21395962]\n"
     ]
    }
   ],
   "source": [
    "input_size = 3\n",
    "output_size = 4\n",
    "batch_size = 10\n",
    "\n",
    "l = Layer(input_size, output_size)\n",
    "print(l.w)\n",
    "print(l.b)\n",
    "input1 = np.ones((input_size, batch_size))\n",
    "print(input1)\n",
    "print(l.forward(input1))\n",
    "print(np.mean(l.forward(input1), axis=1))"
   ]
  },
  {
   "cell_type": "code",
   "execution_count": null,
   "metadata": {},
   "outputs": [],
   "source": []
  }
 ],
 "metadata": {
  "kernelspec": {
   "display_name": "Python 3",
   "language": "python",
   "name": "python3"
  },
  "language_info": {
   "codemirror_mode": {
    "name": "ipython",
    "version": 3
   },
   "file_extension": ".py",
   "mimetype": "text/x-python",
   "name": "python",
   "nbconvert_exporter": "python",
   "pygments_lexer": "ipython3",
   "version": "3.11.7"
  }
 },
 "nbformat": 4,
 "nbformat_minor": 2
}
