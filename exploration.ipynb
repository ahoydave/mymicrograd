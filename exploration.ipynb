{
 "cells": [
  {
   "cell_type": "markdown",
   "metadata": {},
   "source": [
    "# Rambling Exploration of Auto Diff and NN Training\n",
    "\n",
    "Inspired by https://youtu.be/VMj-3S1tku0?si=evpoOT5i5Kx8vpeE though initially too impatient to watch the actual video"
   ]
  },
  {
   "cell_type": "code",
   "execution_count": 2,
   "metadata": {},
   "outputs": [
    {
     "name": "stdout",
     "output_type": "stream",
     "text": [
      "Requirement already satisfied: numpy in ./.conda/lib/python3.11/site-packages (1.26.4)\n",
      "Note: you may need to restart the kernel to use updated packages.\n",
      "Requirement already satisfied: matplotlib in ./.conda/lib/python3.11/site-packages (3.8.2)\n",
      "Requirement already satisfied: contourpy>=1.0.1 in ./.conda/lib/python3.11/site-packages (from matplotlib) (1.2.0)\n",
      "Requirement already satisfied: cycler>=0.10 in ./.conda/lib/python3.11/site-packages (from matplotlib) (0.12.1)\n",
      "Requirement already satisfied: fonttools>=4.22.0 in ./.conda/lib/python3.11/site-packages (from matplotlib) (4.48.1)\n",
      "Requirement already satisfied: kiwisolver>=1.3.1 in ./.conda/lib/python3.11/site-packages (from matplotlib) (1.4.5)\n",
      "Requirement already satisfied: numpy<2,>=1.21 in ./.conda/lib/python3.11/site-packages (from matplotlib) (1.26.4)\n",
      "Requirement already satisfied: packaging>=20.0 in ./.conda/lib/python3.11/site-packages (from matplotlib) (23.2)\n",
      "Requirement already satisfied: pillow>=8 in ./.conda/lib/python3.11/site-packages (from matplotlib) (10.2.0)\n",
      "Requirement already satisfied: pyparsing>=2.3.1 in ./.conda/lib/python3.11/site-packages (from matplotlib) (3.1.1)\n",
      "Requirement already satisfied: python-dateutil>=2.7 in ./.conda/lib/python3.11/site-packages (from matplotlib) (2.8.2)\n",
      "Requirement already satisfied: six>=1.5 in ./.conda/lib/python3.11/site-packages (from python-dateutil>=2.7->matplotlib) (1.16.0)\n",
      "Note: you may need to restart the kernel to use updated packages.\n",
      "Requirement already satisfied: graphviz in ./.conda/lib/python3.11/site-packages (0.20.1)\n",
      "Note: you may need to restart the kernel to use updated packages.\n"
     ]
    }
   ],
   "source": [
    "%pip install numpy\n",
    "%pip install matplotlib\n",
    "%pip install graphviz"
   ]
  },
  {
   "cell_type": "code",
   "execution_count": 3,
   "metadata": {},
   "outputs": [],
   "source": [
    "import math\n",
    "import numpy as np\n",
    "import matplotlib.pyplot as plt\n",
    "from typing import Callable\n",
    "%matplotlib inline"
   ]
  },
  {
   "cell_type": "markdown",
   "metadata": {},
   "source": [
    "# A Derivative"
   ]
  },
  {
   "cell_type": "code",
   "execution_count": 4,
   "metadata": {},
   "outputs": [],
   "source": [
    "def f(x):\n",
    "    return 3*x**2 - 4*x + 5"
   ]
  },
  {
   "cell_type": "code",
   "execution_count": 5,
   "metadata": {},
   "outputs": [
    {
     "data": {
      "text/plain": [
       "[<matplotlib.lines.Line2D at 0x10c495e10>]"
      ]
     },
     "execution_count": 5,
     "metadata": {},
     "output_type": "execute_result"
    },
    {
     "data": {
      "image/png": "[encoded data removed]",
      "text/plain": [
       "<Figure size 640x480 with 1 Axes>"
      ]
     },
     "metadata": {},
     "output_type": "display_data"
    }
   ],
   "source": [
    "xs = np.arange(-5, 5, 0.1)\n",
    "ys = f(xs)\n",
    "plt.plot(xs, ys)"
   ]
  },
  {
   "cell_type": "code",
   "execution_count": 6,
   "metadata": {},
   "outputs": [
    {
     "data": {
      "text/plain": [
       "14.00300000000243"
      ]
     },
     "execution_count": 6,
     "metadata": {},
     "output_type": "execute_result"
    }
   ],
   "source": [
    "h = 0.001\n",
    "x = 3.0\n",
    "(f(x + h) - f(x))/h"
   ]
  },
  {
   "cell_type": "code",
   "execution_count": 7,
   "metadata": {},
   "outputs": [
    {
     "data": {
      "text/plain": [
       "14.0"
      ]
     },
     "execution_count": 7,
     "metadata": {},
     "output_type": "execute_result"
    }
   ],
   "source": [
    "6 * x - 4 # the analytical derivative"
   ]
  },
  {
   "cell_type": "markdown",
   "metadata": {},
   "source": [
    "# Simple Autograd"
   ]
  },
  {
   "cell_type": "markdown",
   "metadata": {},
   "source": [
    "Start defining the nodes of the DAG for a calculation, including labels for the nodes"
   ]
  },
  {
   "cell_type": "code",
   "execution_count": 8,
   "metadata": {},
   "outputs": [
    {
     "name": "stdout",
     "output_type": "stream",
     "text": [
      "Value(label=L, data=-8.0)\n",
      "(Value(label=d, data=4.0), Value(label=f, data=-2.0))\n",
      "*\n"
     ]
    }
   ],
   "source": [
    "class Value:\n",
    "\n",
    "    def __init__(self, data, _children=(), _op='', label='') -> None:\n",
    "        self.data = data\n",
    "        self._prev = _children\n",
    "        self._op = _op\n",
    "        self.label = label\n",
    "        self.grad = 0 # ignore this for now - will add later\n",
    "\n",
    "    def __repr__(self) -> str:\n",
    "        return f\"Value(label={self.label}, data={self.data})\"\n",
    "    \n",
    "    def __add__(self, other):\n",
    "        return Value(self.data + other.data, (self, other), '+')\n",
    "    \n",
    "    def __mul__(self, other):\n",
    "        return Value(self.data * other.data, (self, other), '*')\n",
    "    \n",
    "a = Value(2.0, label='a')\n",
    "b = Value(-3.0, label='b')\n",
    "c = Value(10.0, label='c')\n",
    "f = Value(-2.0, label='f')\n",
    "e = a*b; e.label = 'e'\n",
    "d = e + c; d.label = 'd'\n",
    "L = d * f; L.label = 'L'\n",
    "print(L)\n",
    "print(L._prev)\n",
    "print(L._op)"
   ]
  },
  {
   "cell_type": "markdown",
   "metadata": {},
   "source": [
    "Set up some tooling to visualize the DAG"
   ]
  },
  {
   "cell_type": "code",
   "execution_count": 9,
   "metadata": {},
   "outputs": [],
   "source": [
    "from graphviz import Digraph\n",
    "\n",
    "def trace(root: Value) -> tuple[set[Value], set[Value]]:\n",
    "    nodes, edges = set(), set()\n",
    "    def build(v):\n",
    "        if v not in nodes:\n",
    "            nodes.add(v)\n",
    "            for child in v._prev:\n",
    "                edges.add((child, v))\n",
    "                build(child)\n",
    "    build(root)\n",
    "    return nodes, edges\n",
    "\n",
    "def draw_dot(root: Value):\n",
    "    dot = Digraph(format='svg', graph_attr={'rankdir': 'LR'})\n",
    "\n",
    "    nodes, edges = trace(root)\n",
    "    for n in nodes:\n",
    "        uid = str(id(n))\n",
    "        dot.node(name=uid, label=\"{ %s | data %.4f | grad %.4f} \" % (n.label, n.data, n.grad, ), shape='record')\n",
    "        if n._op:\n",
    "            dot.node(name=uid + n._op, label = n._op)\n",
    "            dot.edge(uid + n._op, uid)\n",
    "\n",
    "    for n1, n2 in edges:\n",
    "        dot.edge(str(id(n1)), str(id(n2)) + n2._op)\n",
    "        \n",
    "    return dot"
   ]
  },
  {
   "cell_type": "code",
   "execution_count": 10,
   "metadata": {},
   "outputs": [
    {
     "data": {
      "image/svg+xml": [
       "<?xml version=\"1.0\" encoding=\"UTF-8\" standalone=\"no\"?>\n",
       "<!DOCTYPE svg PUBLIC \"-//W3C//DTD SVG 1.1//EN\"\n",
       " \"http://www.w3.org/Graphics/SVG/1.1/DTD/svg11.dtd\">\n",
       "<!-- Generated by graphviz version 9.0.0 (20230911.1827)\n",
       " -->\n",
       "<!-- Pages: 1 -->\n",
       "<svg width=\"1140pt\" height=\"128pt\"\n",
       " viewBox=\"0.00 0.00 1139.75 128.00\" xmlns=\"http://www.w3.org/2000/svg\" xmlns:xlink=\"http://www.w3.org/1999/xlink\">\n",
       "<g id=\"graph0\" class=\"graph\" transform=\"scale(1 1) rotate(0) translate(4 124)\">\n",
       "<polygon fill=\"white\" stroke=\"none\" points=\"-4,4 -4,-124 1135.75,-124 1135.75,4 -4,4\"/>\n",
       "<!-- 4505372752 -->\n",
       "<g id=\"node1\" class=\"node\">\n",
       "<title>4505372752</title>\n",
       "<polygon fill=\"none\" stroke=\"black\" points=\"630,-82.5 630,-118.5 816,-118.5 816,-82.5 630,-82.5\"/>\n",
       "<text text-anchor=\"middle\" x=\"640.25\" y=\"-95.7\" font-family=\"Times,serif\" font-size=\"14.00\">f</text>\n",
       "<polyline fill=\"none\" stroke=\"black\" points=\"650.5,-83 650.5,-118.5\"/>\n",
       "<text text-anchor=\"middle\" x=\"692.62\" y=\"-95.7\" font-family=\"Times,serif\" font-size=\"14.00\">data &#45;2.0000</text>\n",
       "<polyline fill=\"none\" stroke=\"black\" points=\"734.75,-83 734.75,-118.5\"/>\n",
       "<text text-anchor=\"middle\" x=\"775.38\" y=\"-95.7\" font-family=\"Times,serif\" font-size=\"14.00\">grad 0.0000</text>\n",
       "</g>\n",
       "<!-- 4505373072* -->\n",
       "<g id=\"node7\" class=\"node\">\n",
       "<title>4505373072*</title>\n",
       "<ellipse fill=\"none\" stroke=\"black\" cx=\"879\" cy=\"-72.5\" rx=\"27\" ry=\"18\"/>\n",
       "<text text-anchor=\"middle\" x=\"879\" y=\"-67.45\" font-family=\"Times,serif\" font-size=\"14.00\">*</text>\n",
       "</g>\n",
       "<!-- 4505372752&#45;&gt;4505373072* -->\n",
       "<g id=\"edge7\" class=\"edge\">\n",
       "<title>4505372752&#45;&gt;4505373072*</title>\n",
       "<path fill=\"none\" stroke=\"black\" d=\"M816.25,-83.73C825.1,-82.12 833.67,-80.56 841.46,-79.14\"/>\n",
       "<polygon fill=\"black\" stroke=\"black\" points=\"841.93,-82.62 851.15,-77.38 840.68,-75.73 841.93,-82.62\"/>\n",
       "</g>\n",
       "<!-- 4505352080 -->\n",
       "<g id=\"node2\" class=\"node\">\n",
       "<title>4505352080</title>\n",
       "<polygon fill=\"none\" stroke=\"black\" points=\"0,-83.5 0,-119.5 188.25,-119.5 188.25,-83.5 0,-83.5\"/>\n",
       "<text text-anchor=\"middle\" x=\"11.38\" y=\"-96.7\" font-family=\"Times,serif\" font-size=\"14.00\">b</text>\n",
       "<polyline fill=\"none\" stroke=\"black\" points=\"22.75,-84 22.75,-119.5\"/>\n",
       "<text text-anchor=\"middle\" x=\"64.88\" y=\"-96.7\" font-family=\"Times,serif\" font-size=\"14.00\">data &#45;3.0000</text>\n",
       "<polyline fill=\"none\" stroke=\"black\" points=\"107,-84 107,-119.5\"/>\n",
       "<text text-anchor=\"middle\" x=\"147.62\" y=\"-96.7\" font-family=\"Times,serif\" font-size=\"14.00\">grad 0.0000</text>\n",
       "</g>\n",
       "<!-- 4499319248* -->\n",
       "<g id=\"node9\" class=\"node\">\n",
       "<title>4499319248*</title>\n",
       "<ellipse fill=\"none\" stroke=\"black\" cx=\"251.25\" cy=\"-73.5\" rx=\"27\" ry=\"18\"/>\n",
       "<text text-anchor=\"middle\" x=\"251.25\" y=\"-68.45\" font-family=\"Times,serif\" font-size=\"14.00\">*</text>\n",
       "</g>\n",
       "<!-- 4505352080&#45;&gt;4499319248* -->\n",
       "<g id=\"edge5\" class=\"edge\">\n",
       "<title>4505352080&#45;&gt;4499319248*</title>\n",
       "<path fill=\"none\" stroke=\"black\" d=\"M188.49,-84.65C197.36,-83.05 205.93,-81.5 213.73,-80.09\"/>\n",
       "<polygon fill=\"black\" stroke=\"black\" points=\"214.2,-83.56 223.42,-78.34 212.95,-76.68 214.2,-83.56\"/>\n",
       "</g>\n",
       "<!-- 4504879888 -->\n",
       "<g id=\"node3\" class=\"node\">\n",
       "<title>4504879888</title>\n",
       "<polygon fill=\"none\" stroke=\"black\" points=\"631.12,-27.5 631.12,-63.5 814.88,-63.5 814.88,-27.5 631.12,-27.5\"/>\n",
       "<text text-anchor=\"middle\" x=\"642.5\" y=\"-40.7\" font-family=\"Times,serif\" font-size=\"14.00\">d</text>\n",
       "<polyline fill=\"none\" stroke=\"black\" points=\"653.88,-28 653.88,-63.5\"/>\n",
       "<text text-anchor=\"middle\" x=\"693.75\" y=\"-40.7\" font-family=\"Times,serif\" font-size=\"14.00\">data 4.0000</text>\n",
       "<polyline fill=\"none\" stroke=\"black\" points=\"733.62,-28 733.62,-63.5\"/>\n",
       "<text text-anchor=\"middle\" x=\"774.25\" y=\"-40.7\" font-family=\"Times,serif\" font-size=\"14.00\">grad 0.0000</text>\n",
       "</g>\n",
       "<!-- 4504879888&#45;&gt;4505373072* -->\n",
       "<g id=\"edge6\" class=\"edge\">\n",
       "<title>4504879888&#45;&gt;4505373072*</title>\n",
       "<path fill=\"none\" stroke=\"black\" d=\"M815.36,-61.52C824.5,-63.12 833.36,-64.67 841.4,-66.08\"/>\n",
       "<polygon fill=\"black\" stroke=\"black\" points=\"840.58,-69.49 851.04,-67.77 841.79,-62.6 840.58,-69.49\"/>\n",
       "</g>\n",
       "<!-- 4504879888+ -->\n",
       "<g id=\"node4\" class=\"node\">\n",
       "<title>4504879888+</title>\n",
       "<ellipse fill=\"none\" stroke=\"black\" cx=\"567\" cy=\"-45.5\" rx=\"27\" ry=\"18\"/>\n",
       "<text text-anchor=\"middle\" x=\"567\" y=\"-40.45\" font-family=\"Times,serif\" font-size=\"14.00\">+</text>\n",
       "</g>\n",
       "<!-- 4504879888+&#45;&gt;4504879888 -->\n",
       "<g id=\"edge1\" class=\"edge\">\n",
       "<title>4504879888+&#45;&gt;4504879888</title>\n",
       "<path fill=\"none\" stroke=\"black\" d=\"M594.47,-45.5C601.87,-45.5 610.38,-45.5 619.43,-45.5\"/>\n",
       "<polygon fill=\"black\" stroke=\"black\" points=\"619.17,-49 629.17,-45.5 619.17,-42 619.17,-49\"/>\n",
       "</g>\n",
       "<!-- 4505347408 -->\n",
       "<g id=\"node5\" class=\"node\">\n",
       "<title>4505347408</title>\n",
       "<polygon fill=\"none\" stroke=\"black\" points=\"2.62,-28.5 2.62,-64.5 185.62,-64.5 185.62,-28.5 2.62,-28.5\"/>\n",
       "<text text-anchor=\"middle\" x=\"13.62\" y=\"-41.7\" font-family=\"Times,serif\" font-size=\"14.00\">a</text>\n",
       "<polyline fill=\"none\" stroke=\"black\" points=\"24.62,-29 24.62,-64.5\"/>\n",
       "<text text-anchor=\"middle\" x=\"64.5\" y=\"-41.7\" font-family=\"Times,serif\" font-size=\"14.00\">data 2.0000</text>\n",
       "<polyline fill=\"none\" stroke=\"black\" points=\"104.38,-29 104.38,-64.5\"/>\n",
       "<text text-anchor=\"middle\" x=\"145\" y=\"-41.7\" font-family=\"Times,serif\" font-size=\"14.00\">grad 0.0000</text>\n",
       "</g>\n",
       "<!-- 4505347408&#45;&gt;4499319248* -->\n",
       "<g id=\"edge4\" class=\"edge\">\n",
       "<title>4505347408&#45;&gt;4499319248*</title>\n",
       "<path fill=\"none\" stroke=\"black\" d=\"M185.81,-62.28C195.45,-63.96 204.82,-65.59 213.29,-67.07\"/>\n",
       "<polygon fill=\"black\" stroke=\"black\" points=\"212.65,-70.51 223.1,-68.77 213.85,-63.61 212.65,-70.51\"/>\n",
       "</g>\n",
       "<!-- 4505373072 -->\n",
       "<g id=\"node6\" class=\"node\">\n",
       "<title>4505373072</title>\n",
       "<polygon fill=\"none\" stroke=\"black\" points=\"942,-54.5 942,-90.5 1131.75,-90.5 1131.75,-54.5 942,-54.5\"/>\n",
       "<text text-anchor=\"middle\" x=\"954.12\" y=\"-67.7\" font-family=\"Times,serif\" font-size=\"14.00\">L</text>\n",
       "<polyline fill=\"none\" stroke=\"black\" points=\"966.25,-55 966.25,-90.5\"/>\n",
       "<text text-anchor=\"middle\" x=\"1008.38\" y=\"-67.7\" font-family=\"Times,serif\" font-size=\"14.00\">data &#45;8.0000</text>\n",
       "<polyline fill=\"none\" stroke=\"black\" points=\"1050.5,-55 1050.5,-90.5\"/>\n",
       "<text text-anchor=\"middle\" x=\"1091.12\" y=\"-67.7\" font-family=\"Times,serif\" font-size=\"14.00\">grad 0.0000</text>\n",
       "</g>\n",
       "<!-- 4505373072*&#45;&gt;4505373072 -->\n",
       "<g id=\"edge2\" class=\"edge\">\n",
       "<title>4505373072*&#45;&gt;4505373072</title>\n",
       "<path fill=\"none\" stroke=\"black\" d=\"M906.44,-72.5C913.59,-72.5 921.78,-72.5 930.49,-72.5\"/>\n",
       "<polygon fill=\"black\" stroke=\"black\" points=\"930.26,-76 940.26,-72.5 930.26,-69 930.26,-76\"/>\n",
       "</g>\n",
       "<!-- 4499319248 -->\n",
       "<g id=\"node8\" class=\"node\">\n",
       "<title>4499319248</title>\n",
       "<polygon fill=\"none\" stroke=\"black\" points=\"315.38,-55.5 315.38,-91.5 502.88,-91.5 502.88,-55.5 315.38,-55.5\"/>\n",
       "<text text-anchor=\"middle\" x=\"326.38\" y=\"-68.7\" font-family=\"Times,serif\" font-size=\"14.00\">e</text>\n",
       "<polyline fill=\"none\" stroke=\"black\" points=\"337.38,-56 337.38,-91.5\"/>\n",
       "<text text-anchor=\"middle\" x=\"379.5\" y=\"-68.7\" font-family=\"Times,serif\" font-size=\"14.00\">data &#45;6.0000</text>\n",
       "<polyline fill=\"none\" stroke=\"black\" points=\"421.62,-56 421.62,-91.5\"/>\n",
       "<text text-anchor=\"middle\" x=\"462.25\" y=\"-68.7\" font-family=\"Times,serif\" font-size=\"14.00\">grad 0.0000</text>\n",
       "</g>\n",
       "<!-- 4499319248&#45;&gt;4504879888+ -->\n",
       "<g id=\"edge9\" class=\"edge\">\n",
       "<title>4499319248&#45;&gt;4504879888+</title>\n",
       "<path fill=\"none\" stroke=\"black\" d=\"M503.05,-56.81C512.25,-55.16 521.16,-53.56 529.24,-52.1\"/>\n",
       "<polygon fill=\"black\" stroke=\"black\" points=\"529.71,-55.58 538.93,-50.36 528.47,-48.69 529.71,-55.58\"/>\n",
       "</g>\n",
       "<!-- 4499319248*&#45;&gt;4499319248 -->\n",
       "<g id=\"edge3\" class=\"edge\">\n",
       "<title>4499319248*&#45;&gt;4499319248</title>\n",
       "<path fill=\"none\" stroke=\"black\" d=\"M278.69,-73.5C286.1,-73.5 294.64,-73.5 303.71,-73.5\"/>\n",
       "<polygon fill=\"black\" stroke=\"black\" points=\"303.51,-77 313.51,-73.5 303.51,-70 303.51,-77\"/>\n",
       "</g>\n",
       "<!-- 4505371536 -->\n",
       "<g id=\"node10\" class=\"node\">\n",
       "<title>4505371536</title>\n",
       "<polygon fill=\"none\" stroke=\"black\" points=\"314.25,-0.5 314.25,-36.5 504,-36.5 504,-0.5 314.25,-0.5\"/>\n",
       "<text text-anchor=\"middle\" x=\"325.25\" y=\"-13.7\" font-family=\"Times,serif\" font-size=\"14.00\">c</text>\n",
       "<polyline fill=\"none\" stroke=\"black\" points=\"336.25,-1 336.25,-36.5\"/>\n",
       "<text text-anchor=\"middle\" x=\"379.5\" y=\"-13.7\" font-family=\"Times,serif\" font-size=\"14.00\">data 10.0000</text>\n",
       "<polyline fill=\"none\" stroke=\"black\" points=\"422.75,-1 422.75,-36.5\"/>\n",
       "<text text-anchor=\"middle\" x=\"463.38\" y=\"-13.7\" font-family=\"Times,serif\" font-size=\"14.00\">grad 0.0000</text>\n",
       "</g>\n",
       "<!-- 4505371536&#45;&gt;4504879888+ -->\n",
       "<g id=\"edge8\" class=\"edge\">\n",
       "<title>4505371536&#45;&gt;4504879888+</title>\n",
       "<path fill=\"none\" stroke=\"black\" d=\"M504.39,-34.83C513.16,-36.35 521.65,-37.82 529.37,-39.15\"/>\n",
       "<polygon fill=\"black\" stroke=\"black\" points=\"528.5,-42.56 538.95,-40.81 529.69,-35.66 528.5,-42.56\"/>\n",
       "</g>\n",
       "</g>\n",
       "</svg>\n"
      ],
      "text/plain": [
       "<graphviz.graphs.Digraph at 0x10c465010>"
      ]
     },
     "execution_count": 10,
     "metadata": {},
     "output_type": "execute_result"
    }
   ],
   "source": [
    "draw_dot(L)"
   ]
  },
  {
   "cell_type": "markdown",
   "metadata": {},
   "source": [
    "We now want to be able to take a calculation result node and be able to calculate dx/dL for each preceeding node. When doing backprop, some of these preceeding nodes will be weights and we'll use the gradient of L relative to the weight to improve its value.\n",
    "\n",
    "To do this we want to introduce a `grad` property. We can use the chain rule that for a node, x, dx/dL = dx/dP * dP/dL where, in this case, P will be parent or downstream node."
   ]
  },
  {
   "cell_type": "code",
   "execution_count": 11,
   "metadata": {},
   "outputs": [
    {
     "name": "stdout",
     "output_type": "stream",
     "text": [
      "Value(label=L, data=-8.0)\n",
      "(Value(label=d, data=4.0), Value(label=f, data=-2.0))\n",
      "*\n"
     ]
    }
   ],
   "source": [
    "class Value:\n",
    "\n",
    "    def __init__(self, data, _children=(), _op='', label='') -> None:\n",
    "        self.data = data\n",
    "        self._prev = _children\n",
    "        self._op = _op\n",
    "        self.label = label\n",
    "        self.grad = 1.0\n",
    "\n",
    "    def __repr__(self) -> str:\n",
    "        return f\"Value(label={self.label}, data={self.data})\"\n",
    "    \n",
    "    def __add__(self, other):\n",
    "        return Value(self.data + other.data, (self, other), '+')\n",
    "    \n",
    "    def __mul__(self, other):\n",
    "        return Value(self.data * other.data, (self, other), '*')\n",
    "    \n",
    "    def backprop(self):\n",
    "        if self._op == '*':\n",
    "            self._prev[0].grad = self._prev[1].data * self.grad\n",
    "            self._prev[1].grad = self._prev[0].data * self.grad\n",
    "            for child in self._prev:\n",
    "                child.backprop()\n",
    "        elif self._op == '+':\n",
    "            self._prev[0].grad = 1.0 * self.grad\n",
    "            self._prev[1].grad = 1.0 * self.grad\n",
    "            for child in self._prev:\n",
    "                child.backprop()\n",
    "        else:\n",
    "            return\n",
    "        \n",
    "a = Value(2.0, label='a')\n",
    "b = Value(-3.0, label='b')\n",
    "c = Value(10.0, label='c')\n",
    "f = Value(-2.0, label='f')\n",
    "e = a*b; e.label = 'e'\n",
    "d = e + c; d.label = 'd'\n",
    "L = d * f; L.label = 'L'\n",
    "print(L)\n",
    "print(L._prev)\n",
    "print(L._op)"
   ]
  },
  {
   "cell_type": "code",
   "execution_count": 12,
   "metadata": {},
   "outputs": [
    {
     "data": {
      "image/svg+xml": [
       "<?xml version=\"1.0\" encoding=\"UTF-8\" standalone=\"no\"?>\n",
       "<!DOCTYPE svg PUBLIC \"-//W3C//DTD SVG 1.1//EN\"\n",
       " \"http://www.w3.org/Graphics/SVG/1.1/DTD/svg11.dtd\">\n",
       "<!-- Generated by graphviz version 9.0.0 (20230911.1827)\n",
       " -->\n",
       "<!-- Pages: 1 -->\n",
       "<svg width=\"1151pt\" height=\"128pt\"\n",
       " viewBox=\"0.00 0.00 1151.00 128.00\" xmlns=\"http://www.w3.org/2000/svg\" xmlns:xlink=\"http://www.w3.org/1999/xlink\">\n",
       "<g id=\"graph0\" class=\"graph\" transform=\"scale(1 1) rotate(0) translate(4 124)\">\n",
       "<polygon fill=\"white\" stroke=\"none\" points=\"-4,4 -4,-124 1147,-124 1147,4 -4,4\"/>\n",
       "<!-- 4505837584 -->\n",
       "<g id=\"node1\" class=\"node\">\n",
       "<title>4505837584</title>\n",
       "<polygon fill=\"none\" stroke=\"black\" points=\"639,-27.5 639,-63.5 827.25,-63.5 827.25,-27.5 639,-27.5\"/>\n",
       "<text text-anchor=\"middle\" x=\"650.38\" y=\"-40.7\" font-family=\"Times,serif\" font-size=\"14.00\">d</text>\n",
       "<polyline fill=\"none\" stroke=\"black\" points=\"661.75,-28 661.75,-63.5\"/>\n",
       "<text text-anchor=\"middle\" x=\"701.62\" y=\"-40.7\" font-family=\"Times,serif\" font-size=\"14.00\">data 4.0000</text>\n",
       "<polyline fill=\"none\" stroke=\"black\" points=\"741.5,-28 741.5,-63.5\"/>\n",
       "<text text-anchor=\"middle\" x=\"784.38\" y=\"-40.7\" font-family=\"Times,serif\" font-size=\"14.00\">grad &#45;2.0000</text>\n",
       "</g>\n",
       "<!-- 4505837776* -->\n",
       "<g id=\"node8\" class=\"node\">\n",
       "<title>4505837776*</title>\n",
       "<ellipse fill=\"none\" stroke=\"black\" cx=\"890.25\" cy=\"-72.5\" rx=\"27\" ry=\"18\"/>\n",
       "<text text-anchor=\"middle\" x=\"890.25\" y=\"-67.45\" font-family=\"Times,serif\" font-size=\"14.00\">*</text>\n",
       "</g>\n",
       "<!-- 4505837584&#45;&gt;4505837776* -->\n",
       "<g id=\"edge9\" class=\"edge\">\n",
       "<title>4505837584&#45;&gt;4505837776*</title>\n",
       "<path fill=\"none\" stroke=\"black\" d=\"M827.49,-61.75C836.27,-63.28 844.77,-64.76 852.51,-66.1\"/>\n",
       "<polygon fill=\"black\" stroke=\"black\" points=\"851.66,-69.51 862.11,-67.78 852.86,-62.61 851.66,-69.51\"/>\n",
       "</g>\n",
       "<!-- 4505837584+ -->\n",
       "<g id=\"node2\" class=\"node\">\n",
       "<title>4505837584+</title>\n",
       "<ellipse fill=\"none\" stroke=\"black\" cx=\"576\" cy=\"-45.5\" rx=\"27\" ry=\"18\"/>\n",
       "<text text-anchor=\"middle\" x=\"576\" y=\"-40.45\" font-family=\"Times,serif\" font-size=\"14.00\">+</text>\n",
       "</g>\n",
       "<!-- 4505837584+&#45;&gt;4505837584 -->\n",
       "<g id=\"edge1\" class=\"edge\">\n",
       "<title>4505837584+&#45;&gt;4505837584</title>\n",
       "<path fill=\"none\" stroke=\"black\" d=\"M603.31,-45.5C610.49,-45.5 618.72,-45.5 627.47,-45.5\"/>\n",
       "<polygon fill=\"black\" stroke=\"black\" points=\"627.29,-49 637.29,-45.5 627.29,-42 627.29,-49\"/>\n",
       "</g>\n",
       "<!-- 4505837136 -->\n",
       "<g id=\"node3\" class=\"node\">\n",
       "<title>4505837136</title>\n",
       "<polygon fill=\"none\" stroke=\"black\" points=\"319.88,-55.5 319.88,-91.5 511.88,-91.5 511.88,-55.5 319.88,-55.5\"/>\n",
       "<text text-anchor=\"middle\" x=\"330.88\" y=\"-68.7\" font-family=\"Times,serif\" font-size=\"14.00\">e</text>\n",
       "<polyline fill=\"none\" stroke=\"black\" points=\"341.88,-56 341.88,-91.5\"/>\n",
       "<text text-anchor=\"middle\" x=\"384\" y=\"-68.7\" font-family=\"Times,serif\" font-size=\"14.00\">data &#45;6.0000</text>\n",
       "<polyline fill=\"none\" stroke=\"black\" points=\"426.12,-56 426.12,-91.5\"/>\n",
       "<text text-anchor=\"middle\" x=\"469\" y=\"-68.7\" font-family=\"Times,serif\" font-size=\"14.00\">grad &#45;2.0000</text>\n",
       "</g>\n",
       "<!-- 4505837136&#45;&gt;4505837584+ -->\n",
       "<g id=\"edge6\" class=\"edge\">\n",
       "<title>4505837136&#45;&gt;4505837584+</title>\n",
       "<path fill=\"none\" stroke=\"black\" d=\"M512.05,-56.65C521.28,-55.01 530.2,-53.43 538.29,-52\"/>\n",
       "<polygon fill=\"black\" stroke=\"black\" points=\"538.74,-55.47 547.98,-50.28 537.52,-48.58 538.74,-55.47\"/>\n",
       "</g>\n",
       "<!-- 4505837136* -->\n",
       "<g id=\"node4\" class=\"node\">\n",
       "<title>4505837136*</title>\n",
       "<ellipse fill=\"none\" stroke=\"black\" cx=\"255.75\" cy=\"-73.5\" rx=\"27\" ry=\"18\"/>\n",
       "<text text-anchor=\"middle\" x=\"255.75\" y=\"-68.45\" font-family=\"Times,serif\" font-size=\"14.00\">*</text>\n",
       "</g>\n",
       "<!-- 4505837136*&#45;&gt;4505837136 -->\n",
       "<g id=\"edge2\" class=\"edge\">\n",
       "<title>4505837136*&#45;&gt;4505837136</title>\n",
       "<path fill=\"none\" stroke=\"black\" d=\"M283.22,-73.5C290.59,-73.5 299.09,-73.5 308.13,-73.5\"/>\n",
       "<polygon fill=\"black\" stroke=\"black\" points=\"307.89,-77 317.89,-73.5 307.89,-70 307.89,-77\"/>\n",
       "</g>\n",
       "<!-- 4505834384 -->\n",
       "<g id=\"node5\" class=\"node\">\n",
       "<title>4505834384</title>\n",
       "<polygon fill=\"none\" stroke=\"black\" points=\"4.88,-83.5 4.88,-119.5 187.88,-119.5 187.88,-83.5 4.88,-83.5\"/>\n",
       "<text text-anchor=\"middle\" x=\"15.88\" y=\"-96.7\" font-family=\"Times,serif\" font-size=\"14.00\">a</text>\n",
       "<polyline fill=\"none\" stroke=\"black\" points=\"26.88,-84 26.88,-119.5\"/>\n",
       "<text text-anchor=\"middle\" x=\"66.75\" y=\"-96.7\" font-family=\"Times,serif\" font-size=\"14.00\">data 2.0000</text>\n",
       "<polyline fill=\"none\" stroke=\"black\" points=\"106.62,-84 106.62,-119.5\"/>\n",
       "<text text-anchor=\"middle\" x=\"147.25\" y=\"-96.7\" font-family=\"Times,serif\" font-size=\"14.00\">grad 6.0000</text>\n",
       "</g>\n",
       "<!-- 4505834384&#45;&gt;4505837136* -->\n",
       "<g id=\"edge5\" class=\"edge\">\n",
       "<title>4505834384&#45;&gt;4505837136*</title>\n",
       "<path fill=\"none\" stroke=\"black\" d=\"M188.01,-85.37C198.67,-83.48 209.04,-81.63 218.3,-79.99\"/>\n",
       "<polygon fill=\"black\" stroke=\"black\" points=\"218.65,-83.48 227.88,-78.28 217.42,-76.59 218.65,-83.48\"/>\n",
       "</g>\n",
       "<!-- 4505835920 -->\n",
       "<g id=\"node6\" class=\"node\">\n",
       "<title>4505835920</title>\n",
       "<polygon fill=\"none\" stroke=\"black\" points=\"318.75,-0.5 318.75,-36.5 513,-36.5 513,-0.5 318.75,-0.5\"/>\n",
       "<text text-anchor=\"middle\" x=\"329.75\" y=\"-13.7\" font-family=\"Times,serif\" font-size=\"14.00\">c</text>\n",
       "<polyline fill=\"none\" stroke=\"black\" points=\"340.75,-1 340.75,-36.5\"/>\n",
       "<text text-anchor=\"middle\" x=\"384\" y=\"-13.7\" font-family=\"Times,serif\" font-size=\"14.00\">data 10.0000</text>\n",
       "<polyline fill=\"none\" stroke=\"black\" points=\"427.25,-1 427.25,-36.5\"/>\n",
       "<text text-anchor=\"middle\" x=\"470.12\" y=\"-13.7\" font-family=\"Times,serif\" font-size=\"14.00\">grad &#45;2.0000</text>\n",
       "</g>\n",
       "<!-- 4505835920&#45;&gt;4505837584+ -->\n",
       "<g id=\"edge7\" class=\"edge\">\n",
       "<title>4505835920&#45;&gt;4505837584+</title>\n",
       "<path fill=\"none\" stroke=\"black\" d=\"M513.41,-34.98C522.1,-36.47 530.5,-37.9 538.15,-39.21\"/>\n",
       "<polygon fill=\"black\" stroke=\"black\" points=\"537.55,-42.66 548,-40.89 538.73,-35.76 537.55,-42.66\"/>\n",
       "</g>\n",
       "<!-- 4505837776 -->\n",
       "<g id=\"node7\" class=\"node\">\n",
       "<title>4505837776</title>\n",
       "<polygon fill=\"none\" stroke=\"black\" points=\"953.25,-54.5 953.25,-90.5 1143,-90.5 1143,-54.5 953.25,-54.5\"/>\n",
       "<text text-anchor=\"middle\" x=\"965.38\" y=\"-67.7\" font-family=\"Times,serif\" font-size=\"14.00\">L</text>\n",
       "<polyline fill=\"none\" stroke=\"black\" points=\"977.5,-55 977.5,-90.5\"/>\n",
       "<text text-anchor=\"middle\" x=\"1019.62\" y=\"-67.7\" font-family=\"Times,serif\" font-size=\"14.00\">data &#45;8.0000</text>\n",
       "<polyline fill=\"none\" stroke=\"black\" points=\"1061.75,-55 1061.75,-90.5\"/>\n",
       "<text text-anchor=\"middle\" x=\"1102.38\" y=\"-67.7\" font-family=\"Times,serif\" font-size=\"14.00\">grad 1.0000</text>\n",
       "</g>\n",
       "<!-- 4505837776*&#45;&gt;4505837776 -->\n",
       "<g id=\"edge3\" class=\"edge\">\n",
       "<title>4505837776*&#45;&gt;4505837776</title>\n",
       "<path fill=\"none\" stroke=\"black\" d=\"M917.69,-72.5C924.84,-72.5 933.03,-72.5 941.74,-72.5\"/>\n",
       "<polygon fill=\"black\" stroke=\"black\" points=\"941.51,-76 951.51,-72.5 941.51,-69 941.51,-76\"/>\n",
       "</g>\n",
       "<!-- 4505836752 -->\n",
       "<g id=\"node9\" class=\"node\">\n",
       "<title>4505836752</title>\n",
       "<polygon fill=\"none\" stroke=\"black\" points=\"640.12,-82.5 640.12,-118.5 826.12,-118.5 826.12,-82.5 640.12,-82.5\"/>\n",
       "<text text-anchor=\"middle\" x=\"650.38\" y=\"-95.7\" font-family=\"Times,serif\" font-size=\"14.00\">f</text>\n",
       "<polyline fill=\"none\" stroke=\"black\" points=\"660.62,-83 660.62,-118.5\"/>\n",
       "<text text-anchor=\"middle\" x=\"702.75\" y=\"-95.7\" font-family=\"Times,serif\" font-size=\"14.00\">data &#45;2.0000</text>\n",
       "<polyline fill=\"none\" stroke=\"black\" points=\"744.88,-83 744.88,-118.5\"/>\n",
       "<text text-anchor=\"middle\" x=\"785.5\" y=\"-95.7\" font-family=\"Times,serif\" font-size=\"14.00\">grad 4.0000</text>\n",
       "</g>\n",
       "<!-- 4505836752&#45;&gt;4505837776* -->\n",
       "<g id=\"edge8\" class=\"edge\">\n",
       "<title>4505836752&#45;&gt;4505837776*</title>\n",
       "<path fill=\"none\" stroke=\"black\" d=\"M826.6,-83.81C835.76,-82.16 844.62,-80.56 852.67,-79.1\"/>\n",
       "<polygon fill=\"black\" stroke=\"black\" points=\"853.09,-82.58 862.31,-77.36 851.84,-75.7 853.09,-82.58\"/>\n",
       "</g>\n",
       "<!-- 4468760464 -->\n",
       "<g id=\"node10\" class=\"node\">\n",
       "<title>4468760464</title>\n",
       "<polygon fill=\"none\" stroke=\"black\" points=\"0,-28.5 0,-64.5 192.75,-64.5 192.75,-28.5 0,-28.5\"/>\n",
       "<text text-anchor=\"middle\" x=\"11.38\" y=\"-41.7\" font-family=\"Times,serif\" font-size=\"14.00\">b</text>\n",
       "<polyline fill=\"none\" stroke=\"black\" points=\"22.75,-29 22.75,-64.5\"/>\n",
       "<text text-anchor=\"middle\" x=\"64.88\" y=\"-41.7\" font-family=\"Times,serif\" font-size=\"14.00\">data &#45;3.0000</text>\n",
       "<polyline fill=\"none\" stroke=\"black\" points=\"107,-29 107,-64.5\"/>\n",
       "<text text-anchor=\"middle\" x=\"149.88\" y=\"-41.7\" font-family=\"Times,serif\" font-size=\"14.00\">grad &#45;4.0000</text>\n",
       "</g>\n",
       "<!-- 4468760464&#45;&gt;4505837136* -->\n",
       "<g id=\"edge4\" class=\"edge\">\n",
       "<title>4468760464&#45;&gt;4505837136*</title>\n",
       "<path fill=\"none\" stroke=\"black\" d=\"M193,-62.91C201.81,-64.42 210.32,-65.88 218.06,-67.2\"/>\n",
       "<polygon fill=\"black\" stroke=\"black\" points=\"217.21,-70.61 227.66,-68.85 218.4,-63.71 217.21,-70.61\"/>\n",
       "</g>\n",
       "</g>\n",
       "</svg>\n"
      ],
      "text/plain": [
       "<graphviz.graphs.Digraph at 0x10a08e0d0>"
      ]
     },
     "execution_count": 12,
     "metadata": {},
     "output_type": "execute_result"
    }
   ],
   "source": [
    "L.backprop()\n",
    "# Lets see the gradients\n",
    "draw_dot(L)"
   ]
  },
  {
   "cell_type": "code",
   "execution_count": 13,
   "metadata": {},
   "outputs": [
    {
     "name": "stdout",
     "output_type": "stream",
     "text": [
      "6.000000000128124\n"
     ]
    }
   ],
   "source": [
    "# A quick numerical check to see if da/dL matches our backprop\n",
    "def local_scope():\n",
    "    h = 0.00001\n",
    "    a = Value(2.0 + h, label='a')\n",
    "    b = Value(-3.0, label='b')\n",
    "    c = Value(10.0, label='c')\n",
    "    f = Value(-2.0, label='f')\n",
    "    e = a*b; e.label = 'e'\n",
    "    d = e + c; d.label = 'd'\n",
    "    L1 = d * f; L.label = 'L'\n",
    "\n",
    "    a = Value(2.0, label='a')\n",
    "    b = Value(-3.0, label='b')\n",
    "    c = Value(10.0, label='c')\n",
    "    f = Value(-2.0, label='f')\n",
    "    e = a*b; e.label = 'e'\n",
    "    d = e + c; d.label = 'd'\n",
    "    L2 = d * f; L.label = 'L'\n",
    "\n",
    "    gradient = (L1.data - L2.data) / h\n",
    "    print(gradient)\n",
    "local_scope()"
   ]
  },
  {
   "cell_type": "code",
   "execution_count": 14,
   "metadata": {},
   "outputs": [
    {
     "name": "stdout",
     "output_type": "stream",
     "text": [
      "6.0\n",
      "-4.0\n",
      "-2.0\n"
     ]
    }
   ],
   "source": [
    "# We can now use the gradients\n",
    "\n",
    "print(a.grad)\n",
    "print(b.grad)\n",
    "print(c.grad)"
   ]
  },
  {
   "cell_type": "markdown",
   "metadata": {},
   "source": [
    "# A simple NN"
   ]
  },
  {
   "cell_type": "code",
   "execution_count": 15,
   "metadata": {},
   "outputs": [],
   "source": [
    "import random"
   ]
  },
  {
   "cell_type": "code",
   "execution_count": 16,
   "metadata": {},
   "outputs": [],
   "source": [
    "def rand_vec(size):\n",
    "    return [random.uniform(-1, 1) for _ in range(size)]"
   ]
  },
  {
   "cell_type": "code",
   "execution_count": 17,
   "metadata": {},
   "outputs": [],
   "source": [
    "def relu(v):\n",
    "    return v if v > 0 else 0\n",
    "\n",
    "class Perceptron:\n",
    "\n",
    "    def __init__(self, weights, activation_fn='relu'):\n",
    "        self.weights = weights\n",
    "        self.acivation_fn = activation_fn\n",
    "\n",
    "    def __repr__(self) -> str:\n",
    "        return f\"Perceptron({self.weights}, activation_fn={self.acivation_fn})\"\n",
    "\n",
    "    def forward(self, inputs):\n",
    "        if (len(inputs) != len(self.weights)):\n",
    "            raise Exception(\"Number of inputs must match number of weights\")\n",
    "        result = sum(w*v for w, v in zip(self.weights, inputs))\n",
    "        if (self.acivation_fn == 'relu'):\n",
    "            result = relu(result)\n",
    "        return result"
   ]
  },
  {
   "cell_type": "code",
   "execution_count": 18,
   "metadata": {},
   "outputs": [
    {
     "name": "stdout",
     "output_type": "stream",
     "text": [
      "Perceptron([0.3876217107095079, 0.7836778719371509, -0.9149339381814625, 0.04810437693104164, -0.3887075515206606], activation_fn=relu)\n",
      "0.49447071907411616\n"
     ]
    }
   ],
   "source": [
    "eg_node = Perceptron(rand_vec(5))\n",
    "print(eg_node)\n",
    "print(eg_node.forward(rand_vec(5)))"
   ]
  },
  {
   "cell_type": "code",
   "execution_count": 19,
   "metadata": {},
   "outputs": [],
   "source": [
    "class Layer:\n",
    "\n",
    "    def __init__(self, input_size, num_node):\n",
    "        self.input_size = input_size\n",
    "        self.nodes = [Perceptron(rand_vec(input_size)) for _ in range(num_node)]\n",
    "\n",
    "    def __repr__(self) -> str:\n",
    "        return f\"Layer(input_size={self.input_size}, num_node={len(self.nodes)})\"\n",
    "\n",
    "    def forward(self, inputs):\n",
    "        if (len(inputs) != self.input_size):\n",
    "            raise Exception(\"Number of inputs doesn't match layer expectation\")\n",
    "        return [node.forward(inputs) for node in self.nodes]"
   ]
  },
  {
   "cell_type": "code",
   "execution_count": 20,
   "metadata": {},
   "outputs": [
    {
     "name": "stdout",
     "output_type": "stream",
     "text": [
      "Layer(input_size=5, num_node=10)\n",
      "[0, 0, 1.1954827736803493, 0.15999029523764052, 1.5013807726655553, 0, 1.4557432356171864, 0, 0.9959476096258685, 1.331961585102969]\n"
     ]
    }
   ],
   "source": [
    "eg_layer = Layer(5, 10)\n",
    "print(eg_layer)\n",
    "print(eg_layer.forward(rand_vec(eg_layer.input_size)))"
   ]
  },
  {
   "cell_type": "code",
   "execution_count": 21,
   "metadata": {},
   "outputs": [],
   "source": [
    "class FinalLayer:\n",
    "    def __init__(self, input_size) -> None:\n",
    "        self.input_size = input_size\n",
    "        self.node = Perceptron(rand_vec(input_size), '')\n",
    "\n",
    "    def __repr__(self) -> str:\n",
    "        return f\"FinalLayer(input_size={self.input_size})\"\n",
    "\n",
    "    def forward(self, inputs):\n",
    "        if (len(inputs) != self.input_size):\n",
    "            raise Exception(\"Number of inputs doesn't match layer expectation\")\n",
    "        return self.node.forward(inputs)\n"
   ]
  },
  {
   "cell_type": "code",
   "execution_count": 22,
   "metadata": {},
   "outputs": [
    {
     "name": "stdout",
     "output_type": "stream",
     "text": [
      "FinalLayer(input_size=10)\n",
      "0.35739983964329486\n"
     ]
    }
   ],
   "source": [
    "eg_final_layer = FinalLayer(10)\n",
    "print(eg_final_layer)\n",
    "print(eg_final_layer.forward(rand_vec(eg_final_layer.input_size)))"
   ]
  },
  {
   "cell_type": "code",
   "execution_count": 23,
   "metadata": {},
   "outputs": [
    {
     "name": "stdout",
     "output_type": "stream",
     "text": [
      "[-0.03941159707548314, -0.6816998179215472, -0.1943008070727943, 0.6039342208197647, 0.6290214915847381]\n",
      "[0, 0, 0, 0.5275355594881801, 0.506176840307848, 0, 0.2026960706126929, 0.3280848808663046, 0, 0]\n",
      "0.1868561627589506\n"
     ]
    }
   ],
   "source": [
    "# a two layer forward pass\n",
    "inputs = rand_vec(eg_layer.input_size)\n",
    "l1_act = eg_layer.forward(inputs)\n",
    "l2_act = eg_final_layer.forward(l1_act)\n",
    "print(inputs)\n",
    "print(l1_act)\n",
    "print(l2_act)"
   ]
  },
  {
   "cell_type": "code",
   "execution_count": 24,
   "metadata": {},
   "outputs": [],
   "source": [
    "class SimpleNN:\n",
    "    def __init__(self, input_size: int, layer_sizes: list[int]) -> None:\n",
    "        self.input_size = input_size\n",
    "        self.layers: list[Layer] = []\n",
    "        last_layer_size = input_size\n",
    "        for i in range(len(layer_sizes)):\n",
    "            self.layers.append(Layer(last_layer_size, layer_sizes[i]))\n",
    "            last_layer_size = layer_sizes[i]\n",
    "        self.layers.append(FinalLayer(last_layer_size))\n",
    "\n",
    "    def __repr__(self) -> str:\n",
    "        return f\"SimpleNN(input_size={self.input_size}, num_layers={len(self.layers)})\"\n",
    "    \n",
    "    def forward(self, inputs):\n",
    "        result = inputs\n",
    "        for layer in self.layers:\n",
    "            result = layer.forward(result)\n",
    "        return result"
   ]
  },
  {
   "cell_type": "code",
   "execution_count": 25,
   "metadata": {},
   "outputs": [
    {
     "name": "stdout",
     "output_type": "stream",
     "text": [
      "[-0.03941159707548314, -0.6816998179215472, -0.1943008070727943, 0.6039342208197647, 0.6290214915847381]\n",
      "[0, 0, 0, 1.1023712613620484, 0]\n",
      "[0, 0.2553603811063857, 0.7908561640584559, 0.26203017344481444, 0, 0, 0, 0, 0.16414515136786806, 0]\n",
      "-0.5761360564576194\n",
      "-0.5761360564576194\n"
     ]
    }
   ],
   "source": [
    "def local_scope():\n",
    "    nn = SimpleNN(5, [5, 10])\n",
    "    print(inputs)\n",
    "    print(nn.layers[0].forward(inputs))\n",
    "    print(nn.layers[1].forward(nn.layers[0].forward(inputs)))\n",
    "    print(nn.layers[2].forward(nn.layers[1].forward(nn.layers[0].forward(inputs))))\n",
    "    print(nn.forward(inputs))\n",
    "local_scope()"
   ]
  },
  {
   "cell_type": "markdown",
   "metadata": {},
   "source": [
    "But what does our NN even do? Well nothing yet since it hasn't been trained to do anything.\n",
    "\n",
    "How do we train it? We need some data. Some examples of input/output pairs that we want the NN to emulate.\n",
    "\n",
    "Lets try to get the NN to do something that we know how to do well and can artifically generate a lot of data for easily. Like adding up the inputs."
   ]
  },
  {
   "cell_type": "code",
   "execution_count": 26,
   "metadata": {},
   "outputs": [],
   "source": [
    "adder_nn = SimpleNN(5, [10, 10])"
   ]
  },
  {
   "cell_type": "code",
   "execution_count": 27,
   "metadata": {},
   "outputs": [
    {
     "name": "stdout",
     "output_type": "stream",
     "text": [
      "([0.3249633352279908, -0.33305017225530364, 0.5274264203627885, -0.40422949905377004, -0.845303874916209], -0.7301937906345033)\n",
      "-0.7301937906345033\n"
     ]
    }
   ],
   "source": [
    "training_data_size = 1000\n",
    "training_data = [rand_vec(5) for i in range(training_data_size)]\n",
    "training_data = [(x, sum(x)) for x in training_data]\n",
    "print(training_data[0])\n",
    "print(sum(training_data[0][0]))"
   ]
  },
  {
   "cell_type": "code",
   "execution_count": 28,
   "metadata": {},
   "outputs": [],
   "source": [
    "def init_loss(nn: SimpleNN, example):\n",
    "    return (nn.forward(example[0]) - example[1])**2\n",
    "\n",
    "def test(nn: SimpleNN, examples):\n",
    "    return sum([init_loss(nn, example) for example in examples]) / len(examples)"
   ]
  },
  {
   "cell_type": "code",
   "execution_count": 29,
   "metadata": {},
   "outputs": [
    {
     "name": "stdout",
     "output_type": "stream",
     "text": [
      "1.37246946638496\n",
      "13.158977772309418\n"
     ]
    }
   ],
   "source": [
    "def local_scope():\n",
    "    example = [[1, 1, 1, 1, 1], 5]\n",
    "    print(adder_nn.forward(example[0]))\n",
    "    print(test(adder_nn, [example]))\n",
    "local_scope()"
   ]
  },
  {
   "cell_type": "code",
   "execution_count": 30,
   "metadata": {},
   "outputs": [
    {
     "data": {
      "text/plain": [
       "1.9026860234974203"
      ]
     },
     "execution_count": 30,
     "metadata": {},
     "output_type": "execute_result"
    }
   ],
   "source": [
    "test(adder_nn, training_data)"
   ]
  },
  {
   "cell_type": "markdown",
   "metadata": {},
   "source": [
    "# Dave's Janky Optimiser (turns out to be shit)"
   ]
  },
  {
   "cell_type": "markdown",
   "metadata": {},
   "source": [
    "So we can now calculate our loss, $L$, for a particular example. We just need to use that to update our weights. This is where stochastic gradient descent comes in.\n",
    "\n",
    "First we'll need to be able to get, for any weight in any layer, the partial derivative of the loss with respect to that weight for the particular input/output $\\frac{\\partial L}{\\partial w_l,i}$ for weight $i$ in layer $l$.\n",
    "\n",
    "Changing $w_{l,i}$ by $\\Delta w$ changes $L$ by approx $\\frac{\\partial L}{\\partial w_{l,i}} * \\Delta w$ so if we set $\\Delta w = -L / \\frac{\\partial L}{\\partial w_{l,i}}$ then we approximately remove the error :D\n",
    "\n",
    "In practise people remove a fraction of that value since there are a lot of moving parts and I assume this works better. We'll experiment and see"
   ]
  },
  {
   "cell_type": "code",
   "execution_count": 31,
   "metadata": {},
   "outputs": [],
   "source": [
    "# define the weight update fn, aka the optimiser. We'll still need the gradient though\n",
    "def updated_weight(weight, gradient, loss):\n",
    "    return weight - loss / gradient"
   ]
  },
  {
   "cell_type": "code",
   "execution_count": 32,
   "metadata": {},
   "outputs": [
    {
     "name": "stdout",
     "output_type": "stream",
     "text": [
      "target_w=3\n",
      "init_w=1.0\n",
      "init_loss=324.0\n",
      "grad=-1026.0\n",
      "new_w(0)=1.3157894736842106\n",
      "grad=-974.8421052631579\n",
      "new_w(1)=1.551480742673009\n",
      "grad=-936.6601196869725\n",
      "new_w(2)=1.7329284712294637\n",
      "grad=-907.2655876608269\n",
      "new_w(3)=1.8762636673939947\n",
      "grad=-884.0452858821728\n",
      "new_w(4)=1.9919652639028813\n",
      "grad=-865.3016272477332\n",
      "new_w(5)=2.0870845307246055\n",
      "grad=-849.8923060226139\n",
      "new_w(6)=2.1665141084476343\n",
      "grad=-837.0247144314833\n",
      "new_w(7)=2.2337410329034837\n",
      "grad=-826.1339526696356\n",
      "new_w(8)=2.2913096354569005\n",
      "grad=-816.8078390559822\n",
      "new_w(9)=2.3411152356376137\n",
      "new_loss=35.16445974941907\n"
     ]
    },
    {
     "data": {
      "image/png": "[encoded data removed]",
      "text/plain": [
       "<Figure size 640x480 with 1 Axes>"
      ]
     },
     "metadata": {},
     "output_type": "display_data"
    },
    {
     "data": {
      "image/png": "[encoded data removed]",
      "text/plain": [
       "<Figure size 640x480 with 1 Axes>"
      ]
     },
     "metadata": {},
     "output_type": "display_data"
    },
    {
     "name": "stdout",
     "output_type": "stream",
     "text": [
      "0.006098784880558039\n"
     ]
    }
   ],
   "source": [
    "# Lets check this gradient update on a simple fn\n",
    "def local_scope():\n",
    "\n",
    "    def plot_fn(f, label):\n",
    "        xs = range(-10, 10, 1)\n",
    "        ys = [f(x) for x in xs]\n",
    "        plt.plot(xs, ys, label=label)\n",
    "        \n",
    "    def fn_given_w(w):\n",
    "        return lambda x: w * x**2 + 3\n",
    "    target_w = 3\n",
    "    print(f\"target_w={target_w}\")\n",
    "    target_fn = fn_given_w(target_w)\n",
    "    plot_fn(target_fn, \"target\")\n",
    "\n",
    "    init_w = 1.0\n",
    "    print(f\"init_w={init_w}\")\n",
    "    init_fn = fn_given_w(init_w)\n",
    "    plot_fn(init_fn, \"initial\")    \n",
    "    \n",
    "    def loss_w(w, x):\n",
    "        return (fn_given_w(target_w)(x) - fn_given_w(w)(x))**2\n",
    "\n",
    "    # ugh ok this isn't so pretty. We won't be doing this analytically in the future\n",
    "    def grad_w(w, x):\n",
    "        return 2 * w * x**4 - 4 * (target_fn(x) + 3) * x**2 \n",
    "    \n",
    "    input = 3\n",
    "    init_loss = loss_w(init_w, input)\n",
    "    print(f\"init_loss={init_loss}\")\n",
    "\n",
    "    new_w = init_w\n",
    "\n",
    "    for i in range(10):\n",
    "        grad = grad_w(new_w, input)\n",
    "        print(f\"grad={grad}\")\n",
    "        new_w = new_w - loss_w(new_w, input) / grad\n",
    "        print(f\"new_w({i})={new_w}\")\n",
    "        new_fn = fn_given_w(new_w)\n",
    "        plot_fn(new_fn, f\"new({i})\")\n",
    "\n",
    "    final_loss = loss_w(new_w, input)\n",
    "    print(f\"new_loss={final_loss}\")\n",
    "\n",
    "    plt.legend()\n",
    "    plt.show()\n",
    "\n",
    "    loss_plot_values = []\n",
    "    def update(w):\n",
    "        return w - loss_w(w, input) / grad_w(w, input)\n",
    "    current_w = init_w\n",
    "    for i in range(1000):\n",
    "        current_w = update(current_w)\n",
    "        loss_plot_values.append(loss_w(current_w, input))\n",
    "    plt.plot(loss_plot_values)\n",
    "    plt.show()\n",
    "    print(loss_plot_values[-1])\n",
    "    \n",
    "\n",
    "local_scope()"
   ]
  },
  {
   "cell_type": "markdown",
   "metadata": {},
   "source": [
    "This does seem to get there eventually though not super fast. We can come back to optimisers once we've managed to get the gradient for a NN since we'll need that anyway."
   ]
  },
  {
   "cell_type": "markdown",
   "metadata": {},
   "source": [
    "# Simple NN but with grad"
   ]
  },
  {
   "cell_type": "code",
   "execution_count": 109,
   "metadata": {},
   "outputs": [],
   "source": [
    "class Value:\n",
    "    def __init__(self, data, _children=(), _op='', label='') -> None:\n",
    "        self.data = data\n",
    "        self._prev = _children\n",
    "        self._op = _op\n",
    "        self.label = label\n",
    "        self.grad = 0.0\n",
    "\n",
    "    def __repr__(self) -> str:\n",
    "        return f\"Value(label={self.label}, data={self.data})\"\n",
    "    \n",
    "    def __add__(self, other):\n",
    "        return Value(self.data + other.data, (self, other), '+')\n",
    "    \n",
    "    def __sub__(self, other):\n",
    "        return Value(self.data - other.data, (self, other), '-')\n",
    "    \n",
    "    def __mul__(self, other):\n",
    "        return Value(self.data * other.data, (self, other), '*')\n",
    "    \n",
    "    def __gt__(self, other):\n",
    "        return self.data > other.data\n",
    "    \n",
    "    def relu(self):\n",
    "        if self.data > 0:\n",
    "            return Value(self.data, (self, ), 'relu')\n",
    "        else:\n",
    "            return Value(0.0, (self, ), 'relu')\n",
    "        \n",
    "    def sq(self):\n",
    "        return Value(self.data ** 2, (self, ), 'sq')\n",
    "\n",
    "    \n",
    "    def backprop(self):\n",
    "        if self._op == '*':\n",
    "            self._prev[0].grad += self._prev[1].data * self.grad\n",
    "            self._prev[1].grad += self._prev[0].data * self.grad\n",
    "            for child in self._prev:\n",
    "                child.backprop()\n",
    "        elif self._op == '+':\n",
    "            self._prev[0].grad += 1.0 * self.grad\n",
    "            self._prev[1].grad += 1.0 * self.grad\n",
    "            for child in self._prev:\n",
    "                child.backprop()\n",
    "        elif self._op == '-':\n",
    "            self._prev[0].grad += 1.0 * self.grad\n",
    "            self._prev[1].grad += -1.0 * self.grad\n",
    "            for child in self._prev:\n",
    "                child.backprop()\n",
    "        elif self._op == 'relu':\n",
    "            if self.data > 0:\n",
    "                self._prev[0].grad += 1.0 * self.grad\n",
    "            else:\n",
    "                self._prev[0].grad += 0.0\n",
    "            for child in self._prev:\n",
    "                child.backprop()\n",
    "        elif self._op == 'sq':\n",
    "            self._prev[0].grad += 2.0 * self._prev[0].data * self.grad\n",
    "            for child in self._prev:\n",
    "                child.backprop()\n",
    "        else:\n",
    "            return\n",
    "\n",
    "def rand_vec(size):\n",
    "    return [Value(random.uniform(-1, 1)) for _ in range(size)] # Now using a Value here\n",
    "\n",
    "# Added this for the Perceptron forward pass\n",
    "def sum_values(vec):\n",
    "    s = Value(0)\n",
    "    for v in vec:\n",
    "        s += v\n",
    "    return s\n",
    "\n",
    "def relu(v):\n",
    "    return v if v > Value(0) else Value(0) # Updated this to use Values too\n",
    "\n",
    "class Perceptron:\n",
    "\n",
    "    def __init__(self, weights, activation_fn='relu'):\n",
    "        self.weights = weights\n",
    "        self.acivation_fn = activation_fn\n",
    "\n",
    "    def __repr__(self) -> str:\n",
    "        return f\"Perceptron({self.weights}, activation_fn={self.acivation_fn})\"\n",
    "\n",
    "    def forward(self, inputs) -> Value:\n",
    "        if (len(inputs) != len(self.weights)):\n",
    "            raise Exception(\"Number of inputs must match number of weights\")\n",
    "        result = sum_values(w*v for w, v in zip(self.weights, inputs))\n",
    "        if (self.acivation_fn == 'relu'):\n",
    "            result = result.relu()\n",
    "        return result\n",
    "\n",
    "class Layer:\n",
    "    def __init__(self, input_size, num_node):\n",
    "        self.input_size = input_size\n",
    "        self.nodes = [Perceptron(rand_vec(input_size)) for _ in range(num_node)]\n",
    "\n",
    "    def __repr__(self) -> str:\n",
    "        return f\"Layer(input_size={self.input_size}, num_node={len(self.nodes)})\"\n",
    "\n",
    "    def forward(self, inputs):\n",
    "        if (len(inputs) != self.input_size):\n",
    "            raise Exception(\"Number of inputs doesn't match layer expectation\")\n",
    "        return [node.forward(inputs) for node in self.nodes]\n",
    "    \n",
    "class FinalLayer:\n",
    "    def __init__(self, input_size) -> None:\n",
    "        self.input_size = input_size\n",
    "        self.nodes = [Perceptron(rand_vec(input_size), '')]\n",
    "\n",
    "    def __repr__(self) -> str:\n",
    "        return f\"FinalLayer(input_size={self.input_size})\"\n",
    "\n",
    "    def forward(self, inputs):\n",
    "        if (len(inputs) != self.input_size):\n",
    "            raise Exception(\"Number of inputs doesn't match layer expectation\")\n",
    "        return self.nodes[0].forward(inputs)\n",
    "\n",
    "class SimpleNN:\n",
    "    def __init__(self, input_size: int, layer_sizes: list[int]) -> None:\n",
    "        self.input_size = input_size\n",
    "        self.layers: list[Layer] = []\n",
    "        last_layer_size = input_size\n",
    "        for i in range(len(layer_sizes)):\n",
    "            self.layers.append(Layer(last_layer_size, layer_sizes[i]))\n",
    "            last_layer_size = layer_sizes[i]\n",
    "        self.layers.append(FinalLayer(last_layer_size))\n",
    "\n",
    "    def __repr__(self) -> str:\n",
    "        return f\"SimpleNN(input_size={self.input_size}, num_layers={len(self.layers)})\"\n",
    "    \n",
    "    def forward(self, inputs):\n",
    "        result = inputs\n",
    "        for layer in self.layers:\n",
    "            result = layer.forward(result)\n",
    "        return result\n",
    "    \n",
    "    def backward(self, update_fn: Callable[[Value, float], Value], loss: Value):\n",
    "        loss.grad = 1.0\n",
    "        loss.backprop()\n",
    "        for layer in self.layers:\n",
    "            for node in layer.nodes:\n",
    "                new_weights = []\n",
    "                for weight in node.weights:\n",
    "                    new_weights.append(update_fn(weight, loss.data))\n",
    "                node.weights = new_weights\n",
    "        \n",
    "    \n",
    "def loss(nn: SimpleNN, example) -> Value:\n",
    "    return (nn.forward(example[0]) - example[1]) * (nn.forward(example[0]) - example[1]) # did this so we don't need to implement __pow__\n",
    "    # return (nn.forward(example[0]) - example[1]).sq()\n",
    "\n",
    "def test(nn: SimpleNN, examples):\n",
    "    return sum([init_loss(nn, example) for example in examples]) / len(examples)"
   ]
  },
  {
   "cell_type": "code",
   "execution_count": 34,
   "metadata": {},
   "outputs": [
    {
     "name": "stdout",
     "output_type": "stream",
     "text": [
      "([Value(label=, data=0.40496045278188686)], Value(label=, data=0.40496045278188686))\n",
      "Value(label=, data=0.40496045278188686)\n"
     ]
    }
   ],
   "source": [
    "# Lets try this out on the simplest example possible. A one input identity function\n",
    "\n",
    "training_data_size = 1000\n",
    "training_data = [rand_vec(1) for _ in range(training_data_size)]\n",
    "training_data = [(x, sum_values(x)) for x in training_data]\n",
    "print(training_data[0])\n",
    "print(sum_values(training_data[0][0]))\n",
    "\n",
    "nn = SimpleNN(len(training_data[0][0]), [])"
   ]
  },
  {
   "cell_type": "code",
   "execution_count": 35,
   "metadata": {},
   "outputs": [],
   "source": [
    "# Here is the update rule based on completely removing the first order error based on a particular weight's gradient\n",
    "\n",
    "def updated(w: Value, loss: float):\n",
    "    if (w.grad != 0):\n",
    "        return Value(w.data - loss / w.grad)\n",
    "    return w"
   ]
  },
  {
   "cell_type": "code",
   "execution_count": 36,
   "metadata": {},
   "outputs": [
    {
     "name": "stdout",
     "output_type": "stream",
     "text": [
      "Initial weight: -0.5670595285936659\n",
      "Initial result=0.4027135253182484 vs actual=Value(label=, data=0.40496045278188686)\n",
      "Initial gradient: -0.2569867436240011\n",
      "Updated weight: 0.9999999999999998\n"
     ]
    }
   ],
   "source": [
    "example_index = 0\n",
    "print(f\"Initial weight: {nn.layers[0].nodes[0].weights[0].data}\")\n",
    "result1 = loss(nn, training_data[example_index])\n",
    "print(f\"Initial result={result1.data} vs actual={training_data[example_index][1]}\")\n",
    "result1.backprop()\n",
    "print(f\"Initial gradient: {nn.layers[0].nodes[0].weights[0].grad}\")\n",
    "print(f\"Updated weight: {updated(nn.layers[0].nodes[0].weights[0], loss(nn, training_data[example_index]).data).data}\")"
   ]
  },
  {
   "cell_type": "code",
   "execution_count": 37,
   "metadata": {},
   "outputs": [
    {
     "name": "stdout",
     "output_type": "stream",
     "text": [
      "Initial weight: -0.5670595285936659\n",
      "Initial result=2.4243710856486325 vs actual=Value(label=, data=0.9936056521824437)\n",
      "Initial gradient: -1.5470829546752114\n",
      "Updated weight: 1.0\n"
     ]
    }
   ],
   "source": [
    "example_index = 1\n",
    "print(f\"Initial weight: {nn.layers[0].nodes[0].weights[0].data}\")\n",
    "result1 = loss(nn, training_data[example_index])\n",
    "print(f\"Initial result={result1.data} vs actual={training_data[example_index][1]}\")\n",
    "result1.backprop()\n",
    "print(f\"Initial gradient: {nn.layers[0].nodes[0].weights[0].grad}\")\n",
    "print(f\"Updated weight: {updated(nn.layers[0].nodes[0].weights[0], loss(nn, training_data[example_index]).data).data}\")"
   ]
  },
  {
   "cell_type": "markdown",
   "metadata": {},
   "source": [
    "So the training worked exactly in one step and only needs one example. Well it is a simple example I guess.\n",
    "\n",
    "Let's try making it slightly more complicated"
   ]
  },
  {
   "cell_type": "code",
   "execution_count": 38,
   "metadata": {},
   "outputs": [
    {
     "name": "stdout",
     "output_type": "stream",
     "text": [
      "([Value(label=, data=0.23183286114216828), Value(label=, data=0.2484289477620174)], Value(label=, data=0.4802618089041857))\n",
      "Value(label=, data=0.4802618089041857)\n"
     ]
    }
   ],
   "source": [
    "# This gives more than one gradient. They both should end up being 1.0, though\n",
    "\n",
    "def generate_sum_fn_training_data(num_examples, input_size):\n",
    "    training_data = [rand_vec(input_size) for _ in range(num_examples)]\n",
    "    training_data = [(x, sum_values(x)) for x in training_data]\n",
    "    return training_data\n",
    "\n",
    "training_data = generate_sum_fn_training_data(10, 2)\n",
    "print(training_data[0])\n",
    "print(sum_values(training_data[0][0]))\n",
    "\n",
    "nn = SimpleNN(len(training_data[0][0]), [])"
   ]
  },
  {
   "cell_type": "code",
   "execution_count": 39,
   "metadata": {},
   "outputs": [
    {
     "name": "stdout",
     "output_type": "stream",
     "text": [
      "Initial weight: -0.07387822413288125\n",
      "Initial weight: -0.5121210587835912\n",
      "Initial result=0.39014377922509796 vs actual=Value(label=, data=0.4802618089041857)\n",
      "Initial gradient: -0.14480626047823975\n",
      "Initial gradient: -0.1551724235413767\n",
      "Updated weight: 2.6203684053747254\n",
      "Updated weight: 2.002138693826809\n"
     ]
    }
   ],
   "source": [
    "example_index = 0\n",
    "print(f\"Initial weight: {nn.layers[0].nodes[0].weights[0].data}\")\n",
    "print(f\"Initial weight: {nn.layers[0].nodes[0].weights[1].data}\")\n",
    "result1 = loss(nn, training_data[example_index])\n",
    "print(f\"Initial result={result1.data} vs actual={training_data[example_index][1]}\")\n",
    "result1.backprop()\n",
    "print(f\"Initial gradient: {nn.layers[0].nodes[0].weights[0].grad}\")\n",
    "print(f\"Initial gradient: {nn.layers[0].nodes[0].weights[1].grad}\")\n",
    "print(f\"Updated weight: {updated(nn.layers[0].nodes[0].weights[0], loss(nn, training_data[example_index]).data).data}\")\n",
    "print(f\"Updated weight: {updated(nn.layers[0].nodes[0].weights[1], loss(nn, training_data[example_index]).data).data}\")"
   ]
  },
  {
   "cell_type": "code",
   "execution_count": 40,
   "metadata": {},
   "outputs": [
    {
     "name": "stdout",
     "output_type": "stream",
     "text": [
      "Loss after 1 training steps: 0.39014377922509796\n",
      "Current weight [0]: -0.07387822413288125\n",
      "Current weight [1]: -0.5121210587835912\n",
      "Loss after 2 training steps: 0.39014377922509824\n",
      "Current weight [0]: 2.6203684053747254\n",
      "Current weight [1]: 2.002138693826809\n",
      "Loss after 3 training steps: 0.39014377922509835\n",
      "Current weight [0]: -0.07387822413288214\n",
      "Current weight [1]: -0.5121210587835918\n",
      "Loss after 4 training steps: 0.39014377922509824\n",
      "Current weight [0]: 2.6203684053747254\n",
      "Current weight [1]: 2.0021386938268093\n",
      "Loss after 5 training steps: 0.39014377922509824\n",
      "Current weight [0]: -0.07387822413288214\n",
      "Current weight [1]: -0.5121210587835914\n",
      "Loss after 6 training steps: 0.39014377922509824\n",
      "Current weight [0]: 2.6203684053747254\n",
      "Current weight [1]: 2.0021386938268093\n",
      "Loss after 7 training steps: 0.39014377922509824\n",
      "Current weight [0]: -0.07387822413288214\n",
      "Current weight [1]: -0.5121210587835914\n",
      "Loss after 8 training steps: 0.39014377922509824\n",
      "Current weight [0]: 2.6203684053747254\n",
      "Current weight [1]: 2.0021386938268093\n",
      "Loss after 9 training steps: 0.39014377922509824\n",
      "Current weight [0]: -0.07387822413288214\n",
      "Current weight [1]: -0.5121210587835914\n",
      "Loss after 10 training steps: 0.39014377922509824\n",
      "Current weight [0]: 2.6203684053747254\n",
      "Current weight [1]: 2.0021386938268093\n"
     ]
    }
   ],
   "source": [
    "# Lets try training (overfitting) on one example\n",
    "training_steps = 10\n",
    "for i in range(training_steps):\n",
    "    current_loss = loss(nn, training_data[0])\n",
    "    print(f\"Loss after {i+1} training steps: {current_loss.data}\")\n",
    "    print(f\"Current weight [0]: {nn.layers[0].nodes[0].weights[0].data}\")\n",
    "    print(f\"Current weight [1]: {nn.layers[0].nodes[0].weights[1].data}\")\n",
    "    nn.backward(updated, current_loss)"
   ]
  },
  {
   "cell_type": "markdown",
   "metadata": {},
   "source": [
    "Really interesting. So we see the weights get caught in this oscillation. It must be because our update rule kinda sucks - works fine for just one weight but is all over the place for even two.\n",
    "\n",
    "Let's investigate using Stochastic Gradient Descent."
   ]
  },
  {
   "cell_type": "markdown",
   "metadata": {},
   "source": [
    "# Stochastic Gradient Descent\n",
    "\n",
    "It's all in the name, really. We're going to try to descent the loss function by using the gradients of function parameters. Why stochastic? Yeah actually not sure about that.\n",
    "\n",
    "All I remember is that you apply a learning rate to only remove part of the error."
   ]
  },
  {
   "cell_type": "code",
   "execution_count": 41,
   "metadata": {},
   "outputs": [
    {
     "name": "stdout",
     "output_type": "stream",
     "text": [
      "Loss after 1 training steps: 0.15058071353001523\n",
      "Current weight [0]: 0.4872003969437113\n",
      "Current weight [1]: -0.0834627430561421\n",
      "Loss after 11 training steps: 0.0017360774280779745\n",
      "Current weight [0]: 1.2342494653783453\n",
      "Current weight [1]: 0.6136803415521005\n",
      "Loss after 21 training steps: 2.0015610004936433e-05\n",
      "Current weight [0]: 1.3144632483141956\n",
      "Current weight [1]: 0.6885355102777246\n",
      "Loss after 31 training steps: 2.307642720251819e-07\n",
      "Current weight [0]: 1.3230761376741438\n",
      "Current weight [1]: 0.6965730228180526\n",
      "Loss after 41 training steps: 2.6605309171282887e-09\n",
      "Current weight [0]: 1.3240009396272698\n",
      "Current weight [1]: 0.6974360441556\n",
      "Loss after 51 training steps: 3.0673833080477e-11\n",
      "Current weight [0]: 1.3241002394808685\n",
      "Current weight [1]: 0.6975287103661132\n",
      "Loss after 61 training steps: 3.5364521783109314e-13\n",
      "Current weight [0]: 1.324110901721461\n",
      "Current weight [1]: 0.6975386603247032\n",
      "Loss after 71 training steps: 4.077251759033694e-15\n",
      "Current weight [0]: 1.3241120465708272\n",
      "Current weight [1]: 0.6975397286933718\n",
      "Loss after 81 training steps: 4.700751264739398e-17\n",
      "Current weight [0]: 1.3241121694980915\n",
      "Current weight [1]: 0.6975398434085841\n",
      "Loss after 91 training steps: 5.419596932879682e-19\n",
      "Current weight [0]: 1.3241121826973061\n",
      "Current weight [1]: 0.6975398557260363\n"
     ]
    },
    {
     "data": {
      "text/plain": [
       "[<matplotlib.lines.Line2D at 0x10cafe7d0>]"
      ]
     },
     "execution_count": 41,
     "metadata": {},
     "output_type": "execute_result"
    },
    {
     "data": {
      "image/png": "[encoded data removed]",
      "text/plain": [
       "<Figure size 640x480 with 1 Axes>"
      ]
     },
     "metadata": {},
     "output_type": "display_data"
    }
   ],
   "source": [
    "learning_rate = 0.1\n",
    "\n",
    "def update_fn(learning_rate: float):\n",
    "    def update(w: Value, loss: float):\n",
    "        if (w.grad != 0):\n",
    "            return Value(w.data - learning_rate * loss / w.grad)\n",
    "        return w\n",
    "    return update\n",
    "\n",
    "nn = SimpleNN(len(training_data[0][0]), [])\n",
    "\n",
    "training_steps = 100\n",
    "losses = []\n",
    "for i in range(training_steps):\n",
    "    current_loss = loss(nn, training_data[0])\n",
    "    losses.append(current_loss.data)\n",
    "    if i % 10 == 0:\n",
    "        print(f\"Loss after {i+1} training steps: {current_loss.data}\")\n",
    "        print(f\"Current weight [0]: {nn.layers[0].nodes[0].weights[0].data}\")\n",
    "        print(f\"Current weight [1]: {nn.layers[0].nodes[0].weights[1].data}\")\n",
    "    nn.backward(update_fn(learning_rate), current_loss)\n",
    "                \n",
    "plt.plot(losses)"
   ]
  },
  {
   "cell_type": "markdown",
   "metadata": {},
   "source": [
    "Well that immediately worked a whole lot better.\n",
    "\n",
    "For one example at least. The weights aren't generally any good because we've only trained on that one example, though."
   ]
  },
  {
   "cell_type": "code",
   "execution_count": 42,
   "metadata": {},
   "outputs": [
    {
     "name": "stdout",
     "output_type": "stream",
     "text": [
      "6.248365382101618e-21\n",
      "0.03397529879864868\n",
      "0.2923203204830262\n",
      "0.0017963603971393248\n",
      "0.3115863788978538\n",
      "0.001618068183763933\n",
      "0.04418771782764847\n",
      "0.3281689401108624\n",
      "0.004926971687903965\n",
      "0.016475142166252548\n"
     ]
    }
   ],
   "source": [
    "for example in training_data:\n",
    "    print(loss(nn, example).data)"
   ]
  },
  {
   "cell_type": "markdown",
   "metadata": {},
   "source": [
    "Now the stochastic part comes in - we sample from the training data to calculate a gradient and use that to update the weights"
   ]
  },
  {
   "cell_type": "code",
   "execution_count": 43,
   "metadata": {},
   "outputs": [
    {
     "name": "stdout",
     "output_type": "stream",
     "text": [
      "Loss after 1 training steps: 0.0009799905185089585\n",
      "Current weight [0]: -0.09462834186475319\n",
      "Loss after 11 training steps: 0.05149928304459917\n",
      "Current weight [0]: 0.6183266972693483\n",
      "Loss after 21 training steps: 0.002499270348645364\n",
      "Current weight [0]: 0.8669187481760613\n",
      "Loss after 31 training steps: 0.0006125658676621117\n",
      "Current weight [0]: 0.9535974367074737\n",
      "Loss after 41 training steps: 7.686028859627767e-05\n",
      "Current weight [0]: 0.9838204266145204\n",
      "Loss after 51 training steps: 2.6029919068170445e-08\n",
      "Current weight [0]: 0.9943585315904675\n",
      "Loss after 61 training steps: 9.422858125832601e-07\n",
      "Current weight [0]: 0.9980329415950908\n",
      "Loss after 71 training steps: 1.381187302619139e-07\n",
      "Current weight [0]: 0.9993141291437907\n",
      "Loss after 81 training steps: 1.6792013161530672e-08\n",
      "Current weight [0]: 0.9997608516197469\n",
      "Loss after 91 training steps: 8.091809094505022e-09\n",
      "Current weight [0]: 0.9999166141158209\n"
     ]
    },
    {
     "data": {
      "text/plain": [
       "[<matplotlib.lines.Line2D at 0x10cb211d0>]"
      ]
     },
     "execution_count": 43,
     "metadata": {},
     "output_type": "execute_result"
    },
    {
     "data": {
      "image/png": "[encoded data removed]",
      "text/plain": [
       "<Figure size 640x480 with 1 Axes>"
      ]
     },
     "metadata": {},
     "output_type": "display_data"
    }
   ],
   "source": [
    "training_data = generate_sum_fn_training_data(10, 1)\n",
    "nn = SimpleNN(len(training_data[0][0]), [])\n",
    "\n",
    "learning_rate = 0.1\n",
    "\n",
    "training_steps = 100\n",
    "losses = []\n",
    "for step in range(training_steps):\n",
    "    example = random.choice(training_data) # this is apparently important to avoid cycles in the updates\n",
    "    current_loss = loss(nn, example)\n",
    "    nn.backward(update_fn(learning_rate), current_loss)\n",
    "    losses.append(current_loss.data)\n",
    "        \n",
    "    if step % (training_steps // 10) == 0:\n",
    "        print(f\"Loss after {step+1} training steps: {losses[-1]}\")\n",
    "        print(f\"Current weight [0]: {nn.layers[0].nodes[0].weights[0].data}\")\n",
    "    \n",
    "plt.plot(losses)"
   ]
  },
  {
   "cell_type": "code",
   "execution_count": 114,
   "metadata": {},
   "outputs": [],
   "source": [
    "# set up the experiement so we can play with the number of nodes\n",
    "import statistics\n",
    "\n",
    "def fit_sum_experiment(input_size, learning_rate, training_steps):\n",
    "    training_data = generate_sum_fn_training_data(1000, input_size)\n",
    "    nn = SimpleNN(len(training_data[0][0]), [])\n",
    "\n",
    "    losses = []\n",
    "    for step in range(training_steps):\n",
    "        example = random.choice(training_data)\n",
    "        current_loss = loss(nn, example)\n",
    "        nn.backward(update_fn(learning_rate), current_loss)\n",
    "        if step % (training_steps // 100) == 0:\n",
    "            losses.append(current_loss.data)\n",
    "            \n",
    "        if step % (training_steps // 10) == 0:\n",
    "            print(f\"Loss after {step+1} training steps: {losses[-1]}\")\n",
    "            print(f\"Std dev of weights: {statistics.stdev(map(lambda x: x.data, nn.layers[0].nodes[0].weights))}\")\n",
    "            for i, weight in enumerate(nn.layers[0].nodes[0].weights):\n",
    "                print(f\"Current weight [{i}]: {weight}\")\n",
    "        \n",
    "    plt.plot(losses)"
   ]
  },
  {
   "cell_type": "code",
   "execution_count": 115,
   "metadata": {},
   "outputs": [
    {
     "name": "stdout",
     "output_type": "stream",
     "text": [
      "Loss after 1 training steps: 2.2029510853861347\n",
      "Std dev of weights: 0.5084296416387053\n",
      "Current weight [0]: Value(label=, data=0.3460946877477883)\n",
      "Current weight [1]: Value(label=, data=-0.26726896183985915)\n",
      "Current weight [2]: Value(label=, data=-0.7549414024087322)\n",
      "Current weight [3]: Value(label=, data=-0.6968643013051814)\n",
      "Loss after 100001 training steps: 0.1343638226449333\n",
      "Std dev of weights: 0.4755842442543584\n",
      "Current weight [0]: Value(label=, data=0.393146751905013)\n",
      "Current weight [1]: Value(label=, data=-0.18911014776333898)\n",
      "Current weight [2]: Value(label=, data=-0.6347819327323699)\n",
      "Current weight [3]: Value(label=, data=-0.5864710488487429)\n",
      "Loss after 200001 training steps: 0.21024265381524324\n",
      "Std dev of weights: 0.44493363875080905\n",
      "Current weight [0]: Value(label=, data=0.436884156014993)\n",
      "Current weight [1]: Value(label=, data=-0.11571831465834942)\n",
      "Current weight [2]: Value(label=, data=-0.5230380211226852)\n",
      "Current weight [3]: Value(label=, data=-0.4830706181440852)\n",
      "Loss after 300001 training steps: 0.865723503268715\n",
      "Std dev of weights: 0.4157962348577038\n",
      "Current weight [0]: Value(label=, data=0.47618558400687355)\n",
      "Current weight [1]: Value(label=, data=-0.04644555425102226)\n",
      "Current weight [2]: Value(label=, data=-0.4187520429861458)\n",
      "Current weight [3]: Value(label=, data=-0.3869549659840126)\n",
      "Loss after 400001 training steps: 3.577479258845299e-05\n",
      "Std dev of weights: 0.3891718997196324\n",
      "Current weight [0]: Value(label=, data=0.5141219186006575)\n",
      "Current weight [1]: Value(label=, data=0.018453779614428036)\n",
      "Current weight [2]: Value(label=, data=-0.3215947309025363)\n",
      "Current weight [3]: Value(label=, data=-0.2968548889373652)\n",
      "Loss after 500001 training steps: 1.3402005677048259\n",
      "Std dev of weights: 0.36409940374199473\n",
      "Current weight [0]: Value(label=, data=0.5485012728441102)\n",
      "Current weight [1]: Value(label=, data=0.07843332929373925)\n",
      "Current weight [2]: Value(label=, data=-0.23183419290303722)\n",
      "Current weight [3]: Value(label=, data=-0.21275572191883912)\n",
      "Loss after 600001 training steps: 0.0027930658256454266\n",
      "Std dev of weights: 0.3405539279350506\n",
      "Current weight [0]: Value(label=, data=0.5805133999534465)\n",
      "Current weight [1]: Value(label=, data=0.1356620100120877)\n",
      "Current weight [2]: Value(label=, data=-0.14776511284735927)\n",
      "Current weight [3]: Value(label=, data=-0.13383197173476402)\n",
      "Loss after 700001 training steps: 1.3581396249130566\n",
      "Std dev of weights: 0.3184764032076308\n",
      "Current weight [0]: Value(label=, data=0.6103482552849524)\n",
      "Current weight [1]: Value(label=, data=0.18969485643690123)\n",
      "Current weight [2]: Value(label=, data=-0.06925587952056718)\n",
      "Current weight [3]: Value(label=, data=-0.059703469354996215)\n",
      "Loss after 800001 training steps: 0.6729645422123485\n",
      "Std dev of weights: 0.2980555742842155\n",
      "Current weight [0]: Value(label=, data=0.6379017228803598)\n",
      "Current weight [1]: Value(label=, data=0.23996279970760587)\n",
      "Current weight [2]: Value(label=, data=0.0036250026683153805)\n",
      "Current weight [3]: Value(label=, data=0.008627200679066532)\n",
      "Loss after 900001 training steps: 0.016648479600957687\n",
      "Std dev of weights: 0.27890833867723686\n",
      "Current weight [0]: Value(label=, data=0.6639063203414637)\n",
      "Current weight [1]: Value(label=, data=0.2872611948232541)\n",
      "Current weight [2]: Value(label=, data=0.07188298187678525)\n",
      "Current weight [3]: Value(label=, data=0.07321276302470302)\n"
     ]
    },
    {
     "data": {
      "image/png": "[encoded data removed]",
      "text/plain": [
       "<Figure size 640x480 with 1 Axes>"
      ]
     },
     "metadata": {},
     "output_type": "display_data"
    }
   ],
   "source": [
    "fit_sum_experiment(4, 0.000001, 1000000)"
   ]
  },
  {
   "cell_type": "markdown",
   "metadata": {},
   "source": [
    "That really seems to take a long time and is quite sensitive to our choice of learning rate - if it is too big things just blow up.\n",
    "\n",
    "Perhaps using mini-batches will help?\n",
    "\n",
    "Or perhaps it is because we are including the loss size in our update function... That might have something of a squaring effect that could be blowing up the errors..."
   ]
  },
  {
   "cell_type": "code",
   "execution_count": 118,
   "metadata": {},
   "outputs": [],
   "source": [
    "def update_fn(learning_rate: float):\n",
    "    def update(w: Value, loss: float):\n",
    "        return Value(w.data - learning_rate * w.grad)\n",
    "    return update"
   ]
  },
  {
   "cell_type": "code",
   "execution_count": 119,
   "metadata": {},
   "outputs": [
    {
     "name": "stdout",
     "output_type": "stream",
     "text": [
      "Loss after 1 training steps: 23.290262238625097\n",
      "Std dev of weights: 0.6593289775290949\n",
      "Current weight [0]: Value(label=, data=-0.5804238504055612)\n",
      "Current weight [1]: Value(label=, data=-0.3086177444402913)\n",
      "Current weight [2]: Value(label=, data=-0.42877333665210277)\n",
      "Current weight [3]: Value(label=, data=0.8773030286909058)\n",
      "Current weight [4]: Value(label=, data=0.4083566445526001)\n",
      "Current weight [5]: Value(label=, data=-0.8389213681602719)\n",
      "Current weight [6]: Value(label=, data=-0.26029398447835767)\n",
      "Current weight [7]: Value(label=, data=0.8668159884526572)\n",
      "Current weight [8]: Value(label=, data=-0.3336358531530227)\n",
      "Current weight [9]: Value(label=, data=0.8558307123253139)\n",
      "Loss after 101 training steps: 0.32581214083312676\n",
      "Std dev of weights: 0.32100450889213605\n",
      "Current weight [0]: Value(label=, data=0.2199514869102161)\n",
      "Current weight [1]: Value(label=, data=0.1946855196976564)\n",
      "Current weight [2]: Value(label=, data=0.3080514576443522)\n",
      "Current weight [3]: Value(label=, data=0.9164521571018696)\n",
      "Current weight [4]: Value(label=, data=0.41423357548187506)\n",
      "Current weight [5]: Value(label=, data=0.3069047495865012)\n",
      "Current weight [6]: Value(label=, data=0.26561928371417104)\n",
      "Current weight [7]: Value(label=, data=1.0300761095908493)\n",
      "Current weight [8]: Value(label=, data=0.31695270604909326)\n",
      "Current weight [9]: Value(label=, data=0.8660651459843295)\n",
      "Loss after 201 training steps: 0.4118524590066762\n",
      "Std dev of weights: 0.17121908809373204\n",
      "Current weight [0]: Value(label=, data=0.53259870025305)\n",
      "Current weight [1]: Value(label=, data=0.5875820299280125)\n",
      "Current weight [2]: Value(label=, data=0.6902958669366916)\n",
      "Current weight [3]: Value(label=, data=0.9233302109240222)\n",
      "Current weight [4]: Value(label=, data=0.6705731861500533)\n",
      "Current weight [5]: Value(label=, data=0.7360115151223406)\n",
      "Current weight [6]: Value(label=, data=0.5090160059573622)\n",
      "Current weight [7]: Value(label=, data=1.0259526983695444)\n",
      "Current weight [8]: Value(label=, data=0.7276710877261425)\n",
      "Current weight [9]: Value(label=, data=0.8901569589592697)\n",
      "Loss after 301 training steps: 0.20577221995899017\n",
      "Std dev of weights: 0.11186622589178329\n",
      "Current weight [0]: Value(label=, data=0.6821488926988534)\n",
      "Current weight [1]: Value(label=, data=0.828927701426254)\n",
      "Current weight [2]: Value(label=, data=0.8217108847973703)\n",
      "Current weight [3]: Value(label=, data=1.0160833715882327)\n",
      "Current weight [4]: Value(label=, data=0.8437725473519072)\n",
      "Current weight [5]: Value(label=, data=0.8616733572366106)\n",
      "Current weight [6]: Value(label=, data=0.7412989873101857)\n",
      "Current weight [7]: Value(label=, data=1.017190750923915)\n",
      "Current weight [8]: Value(label=, data=0.8442704036987082)\n",
      "Current weight [9]: Value(label=, data=0.9826680313745033)\n",
      "Loss after 401 training steps: 0.0014928644516346862\n",
      "Std dev of weights: 0.05995813835630092\n",
      "Current weight [0]: Value(label=, data=0.8333056670557322)\n",
      "Current weight [1]: Value(label=, data=0.9107303497459984)\n",
      "Current weight [2]: Value(label=, data=0.9190766858948463)\n",
      "Current weight [3]: Value(label=, data=0.9966908373543845)\n",
      "Current weight [4]: Value(label=, data=0.936704265126226)\n",
      "Current weight [5]: Value(label=, data=0.9214678804317218)\n",
      "Current weight [6]: Value(label=, data=0.8673024412057534)\n",
      "Current weight [7]: Value(label=, data=1.0345512299884914)\n",
      "Current weight [8]: Value(label=, data=0.904406442074987)\n",
      "Current weight [9]: Value(label=, data=0.9793280576126384)\n",
      "Loss after 501 training steps: 0.0008341680111797962\n",
      "Std dev of weights: 0.03335239033320353\n",
      "Current weight [0]: Value(label=, data=0.914922631795782)\n",
      "Current weight [1]: Value(label=, data=0.9619885527543365)\n",
      "Current weight [2]: Value(label=, data=0.9720664685389447)\n",
      "Current weight [3]: Value(label=, data=0.9975013023632493)\n",
      "Current weight [4]: Value(label=, data=0.9614104714284317)\n",
      "Current weight [5]: Value(label=, data=0.9685398748597588)\n",
      "Current weight [6]: Value(label=, data=0.9130795845802161)\n",
      "Current weight [7]: Value(label=, data=1.0190901802515113)\n",
      "Current weight [8]: Value(label=, data=0.94878596612762)\n",
      "Current weight [9]: Value(label=, data=0.9869494546027194)\n",
      "Loss after 601 training steps: 0.0002738990415262353\n",
      "Std dev of weights: 0.018468094624350024\n",
      "Current weight [0]: Value(label=, data=0.9613653607702476)\n",
      "Current weight [1]: Value(label=, data=0.9781344964265319)\n",
      "Current weight [2]: Value(label=, data=0.9899642823714043)\n",
      "Current weight [3]: Value(label=, data=0.9959602369890806)\n",
      "Current weight [4]: Value(label=, data=0.9879255291142766)\n",
      "Current weight [5]: Value(label=, data=0.9851591389541641)\n",
      "Current weight [6]: Value(label=, data=0.9617370307779426)\n",
      "Current weight [7]: Value(label=, data=1.01762712022628)\n",
      "Current weight [8]: Value(label=, data=0.9709286862671012)\n",
      "Current weight [9]: Value(label=, data=1.0076043313523324)\n",
      "Loss after 701 training steps: 0.000350321590092055\n",
      "Std dev of weights: 0.008956771949523719\n",
      "Current weight [0]: Value(label=, data=0.9816039469849078)\n",
      "Current weight [1]: Value(label=, data=0.9913798271990387)\n",
      "Current weight [2]: Value(label=, data=0.998595586590385)\n",
      "Current weight [3]: Value(label=, data=0.9996506873614497)\n",
      "Current weight [4]: Value(label=, data=0.9900945806254133)\n",
      "Current weight [5]: Value(label=, data=0.9926395083902788)\n",
      "Current weight [6]: Value(label=, data=0.9839376754766389)\n",
      "Current weight [7]: Value(label=, data=1.0085036587964689)\n",
      "Current weight [8]: Value(label=, data=0.9868583431544727)\n",
      "Current weight [9]: Value(label=, data=1.0053540647445456)\n",
      "Loss after 801 training steps: 0.00011137690871457991\n",
      "Std dev of weights: 0.004379193561630805\n",
      "Current weight [0]: Value(label=, data=0.9914765573297781)\n",
      "Current weight [1]: Value(label=, data=0.9947502194041268)\n",
      "Current weight [2]: Value(label=, data=0.9988014956236538)\n",
      "Current weight [3]: Value(label=, data=0.9996532895556626)\n",
      "Current weight [4]: Value(label=, data=0.9952657331505648)\n",
      "Current weight [5]: Value(label=, data=0.9969359403850888)\n",
      "Current weight [6]: Value(label=, data=0.9921873143632473)\n",
      "Current weight [7]: Value(label=, data=1.0041960867242508)\n",
      "Current weight [8]: Value(label=, data=0.9937133024056385)\n",
      "Current weight [9]: Value(label=, data=1.0031630376826133)\n",
      "Loss after 901 training steps: 1.1531379242432797e-05\n",
      "Std dev of weights: 0.0024750136401645627\n",
      "Current weight [0]: Value(label=, data=0.9958473645103061)\n",
      "Current weight [1]: Value(label=, data=0.9966655600904749)\n",
      "Current weight [2]: Value(label=, data=0.9993205980204137)\n",
      "Current weight [3]: Value(label=, data=1.0000631137075393)\n",
      "Current weight [4]: Value(label=, data=0.9978395244455571)\n",
      "Current weight [5]: Value(label=, data=0.9994376143355299)\n",
      "Current weight [6]: Value(label=, data=0.9954143299540281)\n",
      "Current weight [7]: Value(label=, data=1.0025132794900513)\n",
      "Current weight [8]: Value(label=, data=0.9964966711190415)\n",
      "Current weight [9]: Value(label=, data=1.0017664540258584)\n"
     ]
    },
    {
     "data": {
      "image/png": "[encoded data removed]",
      "text/plain": [
       "<Figure size 640x480 with 1 Axes>"
      ]
     },
     "metadata": {},
     "output_type": "display_data"
    }
   ],
   "source": [
    "fit_sum_experiment(10, 0.01, 1000)"
   ]
  },
  {
   "cell_type": "markdown",
   "metadata": {},
   "source": [
    "Lol well that works a fuck ton better. Ok so I guess that is probably how you do SGD"
   ]
  },
  {
   "cell_type": "markdown",
   "metadata": {},
   "source": [
    "## On to a multi layer NN then!\n",
    "We're now going to be backprop-ing through our activation function. Let's just check that we are sure we know that this works..."
   ]
  },
  {
   "cell_type": "code",
   "execution_count": 49,
   "metadata": {},
   "outputs": [
    {
     "data": {
      "image/svg+xml": [
       "<?xml version=\"1.0\" encoding=\"UTF-8\" standalone=\"no\"?>\n",
       "<!DOCTYPE svg PUBLIC \"-//W3C//DTD SVG 1.1//EN\"\n",
       " \"http://www.w3.org/Graphics/SVG/1.1/DTD/svg11.dtd\">\n",
       "<!-- Generated by graphviz version 9.0.0 (20230911.1827)\n",
       " -->\n",
       "<!-- Pages: 1 -->\n",
       "<svg width=\"499pt\" height=\"45pt\"\n",
       " viewBox=\"0.00 0.00 498.50 45.00\" xmlns=\"http://www.w3.org/2000/svg\" xmlns:xlink=\"http://www.w3.org/1999/xlink\">\n",
       "<g id=\"graph0\" class=\"graph\" transform=\"scale(1 1) rotate(0) translate(4 41)\">\n",
       "<polygon fill=\"white\" stroke=\"none\" points=\"-4,4 -4,-41 494.5,-41 494.5,4 -4,4\"/>\n",
       "<!-- 4532452944 -->\n",
       "<g id=\"node1\" class=\"node\">\n",
       "<title>4532452944</title>\n",
       "<polygon fill=\"none\" stroke=\"black\" points=\"0,-0.5 0,-36.5 183.75,-36.5 183.75,-0.5 0,-0.5\"/>\n",
       "<text text-anchor=\"middle\" x=\"11.38\" y=\"-13.7\" font-family=\"Times,serif\" font-size=\"14.00\">x</text>\n",
       "<polyline fill=\"none\" stroke=\"black\" points=\"22.75,-1 22.75,-36.5\"/>\n",
       "<text text-anchor=\"middle\" x=\"62.62\" y=\"-13.7\" font-family=\"Times,serif\" font-size=\"14.00\">data 1.0000</text>\n",
       "<polyline fill=\"none\" stroke=\"black\" points=\"102.5,-1 102.5,-36.5\"/>\n",
       "<text text-anchor=\"middle\" x=\"143.12\" y=\"-13.7\" font-family=\"Times,serif\" font-size=\"14.00\">grad 1.0000</text>\n",
       "</g>\n",
       "<!-- 4536194640relu -->\n",
       "<g id=\"node3\" class=\"node\">\n",
       "<title>4536194640relu</title>\n",
       "<ellipse fill=\"none\" stroke=\"black\" cx=\"246.75\" cy=\"-18.5\" rx=\"27\" ry=\"18\"/>\n",
       "<text text-anchor=\"middle\" x=\"246.75\" y=\"-13.45\" font-family=\"Times,serif\" font-size=\"14.00\">relu</text>\n",
       "</g>\n",
       "<!-- 4532452944&#45;&gt;4536194640relu -->\n",
       "<g id=\"edge2\" class=\"edge\">\n",
       "<title>4532452944&#45;&gt;4536194640relu</title>\n",
       "<path fill=\"none\" stroke=\"black\" d=\"M184.01,-18.5C192.39,-18.5 200.52,-18.5 207.98,-18.5\"/>\n",
       "<polygon fill=\"black\" stroke=\"black\" points=\"207.95,-22 217.95,-18.5 207.95,-15 207.95,-22\"/>\n",
       "</g>\n",
       "<!-- 4536194640 -->\n",
       "<g id=\"node2\" class=\"node\">\n",
       "<title>4536194640</title>\n",
       "<polygon fill=\"none\" stroke=\"black\" points=\"309.75,-0.5 309.75,-36.5 490.5,-36.5 490.5,-0.5 309.75,-0.5\"/>\n",
       "<text text-anchor=\"middle\" x=\"319.62\" y=\"-13.7\" font-family=\"Times,serif\" font-size=\"14.00\"> </text>\n",
       "<polyline fill=\"none\" stroke=\"black\" points=\"329.5,-1 329.5,-36.5\"/>\n",
       "<text text-anchor=\"middle\" x=\"369.38\" y=\"-13.7\" font-family=\"Times,serif\" font-size=\"14.00\">data 1.0000</text>\n",
       "<polyline fill=\"none\" stroke=\"black\" points=\"409.25,-1 409.25,-36.5\"/>\n",
       "<text text-anchor=\"middle\" x=\"449.88\" y=\"-13.7\" font-family=\"Times,serif\" font-size=\"14.00\">grad 1.0000</text>\n",
       "</g>\n",
       "<!-- 4536194640relu&#45;&gt;4536194640 -->\n",
       "<g id=\"edge1\" class=\"edge\">\n",
       "<title>4536194640relu&#45;&gt;4536194640</title>\n",
       "<path fill=\"none\" stroke=\"black\" d=\"M274.12,-18.5C281.26,-18.5 289.45,-18.5 298.14,-18.5\"/>\n",
       "<polygon fill=\"black\" stroke=\"black\" points=\"297.86,-22 307.86,-18.5 297.86,-15 297.86,-22\"/>\n",
       "</g>\n",
       "</g>\n",
       "</svg>\n"
      ],
      "text/plain": [
       "<graphviz.graphs.Digraph at 0x10cd7bad0>"
      ]
     },
     "execution_count": 49,
     "metadata": {},
     "output_type": "execute_result"
    }
   ],
   "source": [
    "x = Value(1, label='x')\n",
    "f = x.relu()\n",
    "f.backprop()\n",
    "draw_dot(f)"
   ]
  },
  {
   "cell_type": "code",
   "execution_count": 50,
   "metadata": {},
   "outputs": [
    {
     "data": {
      "text/plain": [
       "[<matplotlib.lines.Line2D at 0x10e2dc390>]"
      ]
     },
     "execution_count": 50,
     "metadata": {},
     "output_type": "execute_result"
    },
    {
     "data": {
      "image/png": "[encoded data removed]",
      "text/plain": [
       "<Figure size 640x480 with 1 Axes>"
      ]
     },
     "metadata": {},
     "output_type": "display_data"
    }
   ],
   "source": [
    "def f_and_df(x_data):\n",
    "    x = Value(x_data, label='x')\n",
    "    f = x.relu()\n",
    "    f.backprop()\n",
    "    return f.data, x.grad\n",
    "\n",
    "xs = np.arange(-5, 5, 0.1)\n",
    "f_and_dfs = [f_and_df(x) for x in xs]\n",
    "fs = [p[0] for p in f_and_dfs]\n",
    "dfs = [p[1] for p in f_and_dfs]\n",
    "plt.plot(xs, fs)\n",
    "plt.plot(xs, dfs)"
   ]
  },
  {
   "cell_type": "code",
   "execution_count": 111,
   "metadata": {},
   "outputs": [],
   "source": [
    "# Lets now run these experiments with a multi layered nn\n",
    "\n",
    "def fit_sum_experiment_2(input_size, learning_rate, training_steps, training_data_size, layer_sizes: list[int]):\n",
    "    training_data = generate_sum_fn_training_data(training_data_size, input_size)\n",
    "    nn = SimpleNN(len(training_data[0][0]), layer_sizes)\n",
    "\n",
    "    losses = []\n",
    "    for step in range(training_steps):\n",
    "        example = random.choice(training_data)\n",
    "        current_loss = loss(nn, example)\n",
    "        nn.backward(update_fn(learning_rate), current_loss)\n",
    "        if step % (training_steps // 100) == 0:\n",
    "            losses.append(current_loss.data)\n",
    "            \n",
    "        if step % (training_steps // 10) == 0:\n",
    "            print(f\"Loss after {step+1} training steps: {losses[-1]}\")\n",
    "            # print(f\"Std dev of weights: {statistics.stdev(map(lambda x: x.data, nn.layers[0].nodes[0].weights))}\")\n",
    "            for i, weight in enumerate(nn.layers[0].nodes[0].weights):\n",
    "                print(f\"Current weight [{i}]: {weight}\")\n",
    "        \n",
    "    plt.plot(losses)"
   ]
  },
  {
   "cell_type": "code",
   "execution_count": 122,
   "metadata": {},
   "outputs": [
    {
     "name": "stdout",
     "output_type": "stream",
     "text": [
      "Loss after 1 training steps: 14.10390501399207\n",
      "Current weight [0]: Value(label=, data=0.12780445091653697)\n",
      "Current weight [1]: Value(label=, data=-0.3565006687554806)\n",
      "Current weight [2]: Value(label=, data=0.9063955150261421)\n",
      "Current weight [3]: Value(label=, data=0.679828321434824)\n",
      "Current weight [4]: Value(label=, data=0.051749665210417004)\n",
      "Current weight [5]: Value(label=, data=-0.43149514793229315)\n",
      "Current weight [6]: Value(label=, data=0.44513028048190983)\n",
      "Current weight [7]: Value(label=, data=-0.10032237310395913)\n",
      "Current weight [8]: Value(label=, data=0.12543832340334402)\n",
      "Current weight [9]: Value(label=, data=0.1681480452941391)\n",
      "Loss after 101 training steps: 0.0372750711286786\n",
      "Current weight [0]: Value(label=, data=0.37487834496146133)\n",
      "Current weight [1]: Value(label=, data=-0.2321127067660661)\n",
      "Current weight [2]: Value(label=, data=0.9945307485224851)\n",
      "Current weight [3]: Value(label=, data=0.9058352423786048)\n",
      "Current weight [4]: Value(label=, data=0.219931829160741)\n",
      "Current weight [5]: Value(label=, data=-0.30305022137696935)\n",
      "Current weight [6]: Value(label=, data=0.5432924145500362)\n",
      "Current weight [7]: Value(label=, data=-0.05338258092600136)\n",
      "Current weight [8]: Value(label=, data=0.1929500738859063)\n",
      "Current weight [9]: Value(label=, data=0.3990670282664512)\n",
      "Loss after 201 training steps: 2.2943241532451832\n",
      "Current weight [0]: Value(label=, data=0.43669753477867557)\n",
      "Current weight [1]: Value(label=, data=-0.15724444923514577)\n",
      "Current weight [2]: Value(label=, data=0.9246806505722983)\n",
      "Current weight [3]: Value(label=, data=0.8514627547238961)\n",
      "Current weight [4]: Value(label=, data=0.41859832491043447)\n",
      "Current weight [5]: Value(label=, data=-0.2514769804208986)\n",
      "Current weight [6]: Value(label=, data=0.631113609834806)\n",
      "Current weight [7]: Value(label=, data=-0.047090633131981294)\n",
      "Current weight [8]: Value(label=, data=0.13537958951243073)\n",
      "Current weight [9]: Value(label=, data=0.6097800410943481)\n",
      "Loss after 301 training steps: 0.08760646189896916\n",
      "Current weight [0]: Value(label=, data=0.5310496795996071)\n",
      "Current weight [1]: Value(label=, data=0.08213186977317442)\n",
      "Current weight [2]: Value(label=, data=0.8779622781758236)\n",
      "Current weight [3]: Value(label=, data=0.8242448012316071)\n",
      "Current weight [4]: Value(label=, data=0.39269627029906995)\n",
      "Current weight [5]: Value(label=, data=-0.179063945281918)\n",
      "Current weight [6]: Value(label=, data=0.6644532802514386)\n",
      "Current weight [7]: Value(label=, data=0.0013798272065287161)\n",
      "Current weight [8]: Value(label=, data=0.04975359131720946)\n",
      "Current weight [9]: Value(label=, data=0.6405921158725962)\n",
      "Loss after 401 training steps: 0.13659867901763098\n",
      "Current weight [0]: Value(label=, data=0.6772937551668029)\n",
      "Current weight [1]: Value(label=, data=0.1890623724375688)\n",
      "Current weight [2]: Value(label=, data=0.8405332690275975)\n",
      "Current weight [3]: Value(label=, data=0.681383308609011)\n",
      "Current weight [4]: Value(label=, data=0.3855620223557846)\n",
      "Current weight [5]: Value(label=, data=-0.10123748136070046)\n",
      "Current weight [6]: Value(label=, data=0.7046294253699951)\n",
      "Current weight [7]: Value(label=, data=0.017866579802375156)\n",
      "Current weight [8]: Value(label=, data=0.008697050710364918)\n",
      "Current weight [9]: Value(label=, data=0.6301973153107572)\n",
      "Loss after 501 training steps: 0.033635042107451094\n",
      "Current weight [0]: Value(label=, data=0.6498714783062324)\n",
      "Current weight [1]: Value(label=, data=0.20460569684528257)\n",
      "Current weight [2]: Value(label=, data=0.9170707525637203)\n",
      "Current weight [3]: Value(label=, data=0.6200066872606546)\n",
      "Current weight [4]: Value(label=, data=0.4376382273256684)\n",
      "Current weight [5]: Value(label=, data=-0.05140982738736934)\n",
      "Current weight [6]: Value(label=, data=0.6213990688621644)\n",
      "Current weight [7]: Value(label=, data=-0.0036222771592715848)\n",
      "Current weight [8]: Value(label=, data=0.04636966399222239)\n",
      "Current weight [9]: Value(label=, data=0.630860893985528)\n",
      "Loss after 601 training steps: 0.10324154759343439\n",
      "Current weight [0]: Value(label=, data=0.6502672622279004)\n",
      "Current weight [1]: Value(label=, data=0.2668519634325253)\n",
      "Current weight [2]: Value(label=, data=0.9307075876213164)\n",
      "Current weight [3]: Value(label=, data=0.6013601114916817)\n",
      "Current weight [4]: Value(label=, data=0.4323061941941367)\n",
      "Current weight [5]: Value(label=, data=0.09644319797107281)\n",
      "Current weight [6]: Value(label=, data=0.5607622570585221)\n",
      "Current weight [7]: Value(label=, data=0.03571127594810312)\n",
      "Current weight [8]: Value(label=, data=0.08885357184449476)\n",
      "Current weight [9]: Value(label=, data=0.6529557037102545)\n",
      "Loss after 701 training steps: 0.3628508362065095\n",
      "Current weight [0]: Value(label=, data=0.7317122296408234)\n",
      "Current weight [1]: Value(label=, data=0.282676803338256)\n",
      "Current weight [2]: Value(label=, data=0.9030898753585676)\n",
      "Current weight [3]: Value(label=, data=0.5449769362026451)\n",
      "Current weight [4]: Value(label=, data=0.41175623700015707)\n",
      "Current weight [5]: Value(label=, data=0.1266640879449007)\n",
      "Current weight [6]: Value(label=, data=0.4635781625225435)\n",
      "Current weight [7]: Value(label=, data=0.13098908452419986)\n",
      "Current weight [8]: Value(label=, data=0.09476502072055536)\n",
      "Current weight [9]: Value(label=, data=0.7089069459451443)\n",
      "Loss after 801 training steps: 0.1590006707496264\n",
      "Current weight [0]: Value(label=, data=0.7161725354322876)\n",
      "Current weight [1]: Value(label=, data=0.3712059677240746)\n",
      "Current weight [2]: Value(label=, data=0.8971301816201517)\n",
      "Current weight [3]: Value(label=, data=0.48058321817579847)\n",
      "Current weight [4]: Value(label=, data=0.43318265254255217)\n",
      "Current weight [5]: Value(label=, data=0.19619345641822042)\n",
      "Current weight [6]: Value(label=, data=0.420662980245563)\n",
      "Current weight [7]: Value(label=, data=0.1858107305834198)\n",
      "Current weight [8]: Value(label=, data=-0.00042564500196660277)\n",
      "Current weight [9]: Value(label=, data=0.7169763512594917)\n",
      "Loss after 901 training steps: 0.13262919718625352\n",
      "Current weight [0]: Value(label=, data=0.6941765307483969)\n",
      "Current weight [1]: Value(label=, data=0.4214861516552333)\n",
      "Current weight [2]: Value(label=, data=0.8960608343004789)\n",
      "Current weight [3]: Value(label=, data=0.4517959678993025)\n",
      "Current weight [4]: Value(label=, data=0.4429322143815214)\n",
      "Current weight [5]: Value(label=, data=0.2736054880408879)\n",
      "Current weight [6]: Value(label=, data=0.40401341227061066)\n",
      "Current weight [7]: Value(label=, data=0.2284991972362287)\n",
      "Current weight [8]: Value(label=, data=0.048292484530485714)\n",
      "Current weight [9]: Value(label=, data=0.727647852995795)\n"
     ]
    },
    {
     "data": {
      "image/png": "[encoded data removed]",
      "text/plain": [
       "<Figure size 640x480 with 1 Axes>"
      ]
     },
     "metadata": {},
     "output_type": "display_data"
    }
   ],
   "source": [
    "fit_sum_experiment_2(10, 0.01, 1000, 10000, [10])"
   ]
  },
  {
   "cell_type": "markdown",
   "metadata": {},
   "source": [
    "That is going in the wrong direction...\n",
    "\n",
    "Let's check the gradient update part with just one node."
   ]
  },
  {
   "cell_type": "code",
   "execution_count": 98,
   "metadata": {},
   "outputs": [
    {
     "name": "stdout",
     "output_type": "stream",
     "text": [
      "loss: Value(label=, data=0.25)\n",
      "gradient: -1.0\n",
      "updated weight: 0.6\n"
     ]
    },
    {
     "data": {
      "image/svg+xml": [
       "<?xml version=\"1.0\" encoding=\"UTF-8\" standalone=\"no\"?>\n",
       "<!DOCTYPE svg PUBLIC \"-//W3C//DTD SVG 1.1//EN\"\n",
       " \"http://www.w3.org/Graphics/SVG/1.1/DTD/svg11.dtd\">\n",
       "<!-- Generated by graphviz version 9.0.0 (20230911.1827)\n",
       " -->\n",
       "<!-- Pages: 1 -->\n",
       "<svg width=\"1756pt\" height=\"154pt\"\n",
       " viewBox=\"0.00 0.00 1755.50 154.00\" xmlns=\"http://www.w3.org/2000/svg\" xmlns:xlink=\"http://www.w3.org/1999/xlink\">\n",
       "<g id=\"graph0\" class=\"graph\" transform=\"scale(1 1) rotate(0) translate(4 150)\">\n",
       "<polygon fill=\"white\" stroke=\"none\" points=\"-4,4 -4,-150 1751.5,-150 1751.5,4 -4,4\"/>\n",
       "<!-- 4532172816 -->\n",
       "<g id=\"node1\" class=\"node\">\n",
       "<title>4532172816</title>\n",
       "<polygon fill=\"none\" stroke=\"black\" points=\"939.75,-54.5 939.75,-90.5 1125,-90.5 1125,-54.5 939.75,-54.5\"/>\n",
       "<text text-anchor=\"middle\" x=\"949.62\" y=\"-67.7\" font-family=\"Times,serif\" font-size=\"14.00\"> </text>\n",
       "<polyline fill=\"none\" stroke=\"black\" points=\"959.5,-55 959.5,-90.5\"/>\n",
       "<text text-anchor=\"middle\" x=\"999.38\" y=\"-67.7\" font-family=\"Times,serif\" font-size=\"14.00\">data 0.5000</text>\n",
       "<polyline fill=\"none\" stroke=\"black\" points=\"1039.25,-55 1039.25,-90.5\"/>\n",
       "<text text-anchor=\"middle\" x=\"1082.12\" y=\"-67.7\" font-family=\"Times,serif\" font-size=\"14.00\">grad &#45;1.0000</text>\n",
       "</g>\n",
       "<!-- 4532638096&#45; -->\n",
       "<g id=\"node5\" class=\"node\">\n",
       "<title>4532638096&#45;</title>\n",
       "<ellipse fill=\"none\" stroke=\"black\" cx=\"1188\" cy=\"-99.5\" rx=\"27\" ry=\"18\"/>\n",
       "<text text-anchor=\"middle\" x=\"1188\" y=\"-94.45\" font-family=\"Times,serif\" font-size=\"14.00\">&#45;</text>\n",
       "</g>\n",
       "<!-- 4532172816&#45;&gt;4532638096&#45; -->\n",
       "<g id=\"edge8\" class=\"edge\">\n",
       "<title>4532172816&#45;&gt;4532638096&#45;</title>\n",
       "<path fill=\"none\" stroke=\"black\" d=\"M1125.4,-88.67C1134.14,-90.21 1142.61,-91.7 1150.33,-93.05\"/>\n",
       "<polygon fill=\"black\" stroke=\"black\" points=\"1149.45,-96.45 1159.91,-94.74 1150.66,-89.56 1149.45,-96.45\"/>\n",
       "</g>\n",
       "<!-- 4532172816relu -->\n",
       "<g id=\"node2\" class=\"node\">\n",
       "<title>4532172816relu</title>\n",
       "<ellipse fill=\"none\" stroke=\"black\" cx=\"876.75\" cy=\"-72.5\" rx=\"27\" ry=\"18\"/>\n",
       "<text text-anchor=\"middle\" x=\"876.75\" y=\"-67.45\" font-family=\"Times,serif\" font-size=\"14.00\">relu</text>\n",
       "</g>\n",
       "<!-- 4532172816relu&#45;&gt;4532172816 -->\n",
       "<g id=\"edge1\" class=\"edge\">\n",
       "<title>4532172816relu&#45;&gt;4532172816</title>\n",
       "<path fill=\"none\" stroke=\"black\" d=\"M904.16,-72.5C911.2,-72.5 919.25,-72.5 927.8,-72.5\"/>\n",
       "<polygon fill=\"black\" stroke=\"black\" points=\"927.79,-76 937.79,-72.5 927.79,-69 927.79,-76\"/>\n",
       "</g>\n",
       "<!-- 4536248272 -->\n",
       "<g id=\"node3\" class=\"node\">\n",
       "<title>4536248272</title>\n",
       "<polygon fill=\"none\" stroke=\"black\" points=\"1.5,-55.5 1.5,-91.5 189.75,-91.5 189.75,-55.5 1.5,-55.5\"/>\n",
       "<text text-anchor=\"middle\" x=\"12.88\" y=\"-68.7\" font-family=\"Times,serif\" font-size=\"14.00\">x</text>\n",
       "<polyline fill=\"none\" stroke=\"black\" points=\"24.25,-56 24.25,-91.5\"/>\n",
       "<text text-anchor=\"middle\" x=\"64.12\" y=\"-68.7\" font-family=\"Times,serif\" font-size=\"14.00\">data 1.0000</text>\n",
       "<polyline fill=\"none\" stroke=\"black\" points=\"104,-56 104,-91.5\"/>\n",
       "<text text-anchor=\"middle\" x=\"146.88\" y=\"-68.7\" font-family=\"Times,serif\" font-size=\"14.00\">grad &#45;0.5000</text>\n",
       "</g>\n",
       "<!-- 4532642768* -->\n",
       "<g id=\"node14\" class=\"node\">\n",
       "<title>4532642768*</title>\n",
       "<ellipse fill=\"none\" stroke=\"black\" cx=\"254.25\" cy=\"-45.5\" rx=\"27\" ry=\"18\"/>\n",
       "<text text-anchor=\"middle\" x=\"254.25\" y=\"-40.45\" font-family=\"Times,serif\" font-size=\"14.00\">*</text>\n",
       "</g>\n",
       "<!-- 4536248272&#45;&gt;4532642768* -->\n",
       "<g id=\"edge13\" class=\"edge\">\n",
       "<title>4536248272&#45;&gt;4532642768*</title>\n",
       "<path fill=\"none\" stroke=\"black\" d=\"M190,-56.81C199.33,-55.14 208.36,-53.52 216.54,-52.06\"/>\n",
       "<polygon fill=\"black\" stroke=\"black\" points=\"217.14,-55.51 226.36,-50.31 215.9,-48.62 217.14,-55.51\"/>\n",
       "</g>\n",
       "<!-- 4532638096 -->\n",
       "<g id=\"node4\" class=\"node\">\n",
       "<title>4532638096</title>\n",
       "<polygon fill=\"none\" stroke=\"black\" points=\"1251,-81.5 1251,-117.5 1440.75,-117.5 1440.75,-81.5 1251,-81.5\"/>\n",
       "<text text-anchor=\"middle\" x=\"1260.88\" y=\"-94.7\" font-family=\"Times,serif\" font-size=\"14.00\"> </text>\n",
       "<polyline fill=\"none\" stroke=\"black\" points=\"1270.75,-82 1270.75,-117.5\"/>\n",
       "<text text-anchor=\"middle\" x=\"1312.88\" y=\"-94.7\" font-family=\"Times,serif\" font-size=\"14.00\">data &#45;0.5000</text>\n",
       "<polyline fill=\"none\" stroke=\"black\" points=\"1355,-82 1355,-117.5\"/>\n",
       "<text text-anchor=\"middle\" x=\"1397.88\" y=\"-94.7\" font-family=\"Times,serif\" font-size=\"14.00\">grad &#45;1.0000</text>\n",
       "</g>\n",
       "<!-- 4532636496sq -->\n",
       "<g id=\"node10\" class=\"node\">\n",
       "<title>4532636496sq</title>\n",
       "<ellipse fill=\"none\" stroke=\"black\" cx=\"1503.75\" cy=\"-99.5\" rx=\"27\" ry=\"18\"/>\n",
       "<text text-anchor=\"middle\" x=\"1503.75\" y=\"-94.45\" font-family=\"Times,serif\" font-size=\"14.00\">sq</text>\n",
       "</g>\n",
       "<!-- 4532638096&#45;&gt;4532636496sq -->\n",
       "<g id=\"edge6\" class=\"edge\">\n",
       "<title>4532638096&#45;&gt;4532636496sq</title>\n",
       "<path fill=\"none\" stroke=\"black\" d=\"M1441.14,-99.5C1449.46,-99.5 1457.51,-99.5 1464.91,-99.5\"/>\n",
       "<polygon fill=\"black\" stroke=\"black\" points=\"1464.77,-103 1474.77,-99.5 1464.77,-96 1464.77,-103\"/>\n",
       "</g>\n",
       "<!-- 4532638096&#45;&#45;&gt;4532638096 -->\n",
       "<g id=\"edge2\" class=\"edge\">\n",
       "<title>4532638096&#45;&#45;&gt;4532638096</title>\n",
       "<path fill=\"none\" stroke=\"black\" d=\"M1215.44,-99.5C1222.59,-99.5 1230.78,-99.5 1239.49,-99.5\"/>\n",
       "<polygon fill=\"black\" stroke=\"black\" points=\"1239.26,-103 1249.26,-99.5 1239.26,-96 1239.26,-103\"/>\n",
       "</g>\n",
       "<!-- 4535349328 -->\n",
       "<g id=\"node6\" class=\"node\">\n",
       "<title>4535349328</title>\n",
       "<polygon fill=\"none\" stroke=\"black\" points=\"942,-109.5 942,-145.5 1122.75,-145.5 1122.75,-109.5 942,-109.5\"/>\n",
       "<text text-anchor=\"middle\" x=\"951.88\" y=\"-122.7\" font-family=\"Times,serif\" font-size=\"14.00\"> </text>\n",
       "<polyline fill=\"none\" stroke=\"black\" points=\"961.75,-110 961.75,-145.5\"/>\n",
       "<text text-anchor=\"middle\" x=\"1001.62\" y=\"-122.7\" font-family=\"Times,serif\" font-size=\"14.00\">data 1.0000</text>\n",
       "<polyline fill=\"none\" stroke=\"black\" points=\"1041.5,-110 1041.5,-145.5\"/>\n",
       "<text text-anchor=\"middle\" x=\"1082.12\" y=\"-122.7\" font-family=\"Times,serif\" font-size=\"14.00\">grad 1.0000</text>\n",
       "</g>\n",
       "<!-- 4535349328&#45;&gt;4532638096&#45; -->\n",
       "<g id=\"edge11\" class=\"edge\">\n",
       "<title>4535349328&#45;&gt;4532638096&#45;</title>\n",
       "<path fill=\"none\" stroke=\"black\" d=\"M1123.18,-111.13C1132.73,-109.39 1142.01,-107.7 1150.39,-106.17\"/>\n",
       "<polygon fill=\"black\" stroke=\"black\" points=\"1150.89,-109.64 1160.1,-104.4 1149.64,-102.75 1150.89,-109.64\"/>\n",
       "</g>\n",
       "<!-- 4510480592 -->\n",
       "<g id=\"node7\" class=\"node\">\n",
       "<title>4510480592</title>\n",
       "<polygon fill=\"none\" stroke=\"black\" points=\"317.25,-82.5 317.25,-118.5 502.5,-118.5 502.5,-82.5 317.25,-82.5\"/>\n",
       "<text text-anchor=\"middle\" x=\"327.12\" y=\"-95.7\" font-family=\"Times,serif\" font-size=\"14.00\"> </text>\n",
       "<polyline fill=\"none\" stroke=\"black\" points=\"337,-83 337,-118.5\"/>\n",
       "<text text-anchor=\"middle\" x=\"376.88\" y=\"-95.7\" font-family=\"Times,serif\" font-size=\"14.00\">data 0.0000</text>\n",
       "<polyline fill=\"none\" stroke=\"black\" points=\"416.75,-83 416.75,-118.5\"/>\n",
       "<text text-anchor=\"middle\" x=\"459.62\" y=\"-95.7\" font-family=\"Times,serif\" font-size=\"14.00\">grad &#45;1.0000</text>\n",
       "</g>\n",
       "<!-- 4532635024+ -->\n",
       "<g id=\"node12\" class=\"node\">\n",
       "<title>4532635024+</title>\n",
       "<ellipse fill=\"none\" stroke=\"black\" cx=\"565.5\" cy=\"-72.5\" rx=\"27\" ry=\"18\"/>\n",
       "<text text-anchor=\"middle\" x=\"565.5\" y=\"-67.45\" font-family=\"Times,serif\" font-size=\"14.00\">+</text>\n",
       "</g>\n",
       "<!-- 4510480592&#45;&gt;4532635024+ -->\n",
       "<g id=\"edge9\" class=\"edge\">\n",
       "<title>4510480592&#45;&gt;4532635024+</title>\n",
       "<path fill=\"none\" stroke=\"black\" d=\"M502.9,-83.73C511.64,-82.13 520.11,-80.59 527.83,-79.18\"/>\n",
       "<polygon fill=\"black\" stroke=\"black\" points=\"528.2,-82.67 537.41,-77.44 526.94,-75.79 528.2,-82.67\"/>\n",
       "</g>\n",
       "<!-- 4536239824 -->\n",
       "<g id=\"node8\" class=\"node\">\n",
       "<title>4536239824</title>\n",
       "<polygon fill=\"none\" stroke=\"black\" points=\"0,-0.5 0,-36.5 191.25,-36.5 191.25,-0.5 0,-0.5\"/>\n",
       "<text text-anchor=\"middle\" x=\"12.88\" y=\"-13.7\" font-family=\"Times,serif\" font-size=\"14.00\">w</text>\n",
       "<polyline fill=\"none\" stroke=\"black\" points=\"25.75,-1 25.75,-36.5\"/>\n",
       "<text text-anchor=\"middle\" x=\"65.62\" y=\"-13.7\" font-family=\"Times,serif\" font-size=\"14.00\">data 0.5000</text>\n",
       "<polyline fill=\"none\" stroke=\"black\" points=\"105.5,-1 105.5,-36.5\"/>\n",
       "<text text-anchor=\"middle\" x=\"148.38\" y=\"-13.7\" font-family=\"Times,serif\" font-size=\"14.00\">grad &#45;1.0000</text>\n",
       "</g>\n",
       "<!-- 4536239824&#45;&gt;4532642768* -->\n",
       "<g id=\"edge12\" class=\"edge\">\n",
       "<title>4536239824&#45;&gt;4532642768*</title>\n",
       "<path fill=\"none\" stroke=\"black\" d=\"M191.35,-34.83C200.16,-36.35 208.68,-37.82 216.44,-39.15\"/>\n",
       "<polygon fill=\"black\" stroke=\"black\" points=\"215.63,-42.57 226.08,-40.82 216.82,-35.67 215.63,-42.57\"/>\n",
       "</g>\n",
       "<!-- 4532636496 -->\n",
       "<g id=\"node9\" class=\"node\">\n",
       "<title>4532636496</title>\n",
       "<polygon fill=\"none\" stroke=\"black\" points=\"1566.75,-81.5 1566.75,-117.5 1747.5,-117.5 1747.5,-81.5 1566.75,-81.5\"/>\n",
       "<text text-anchor=\"middle\" x=\"1576.62\" y=\"-94.7\" font-family=\"Times,serif\" font-size=\"14.00\"> </text>\n",
       "<polyline fill=\"none\" stroke=\"black\" points=\"1586.5,-82 1586.5,-117.5\"/>\n",
       "<text text-anchor=\"middle\" x=\"1626.38\" y=\"-94.7\" font-family=\"Times,serif\" font-size=\"14.00\">data 0.2500</text>\n",
       "<polyline fill=\"none\" stroke=\"black\" points=\"1666.25,-82 1666.25,-117.5\"/>\n",
       "<text text-anchor=\"middle\" x=\"1706.88\" y=\"-94.7\" font-family=\"Times,serif\" font-size=\"14.00\">grad 1.0000</text>\n",
       "</g>\n",
       "<!-- 4532636496sq&#45;&gt;4532636496 -->\n",
       "<g id=\"edge3\" class=\"edge\">\n",
       "<title>4532636496sq&#45;&gt;4532636496</title>\n",
       "<path fill=\"none\" stroke=\"black\" d=\"M1531.12,-99.5C1538.26,-99.5 1546.45,-99.5 1555.14,-99.5\"/>\n",
       "<polygon fill=\"black\" stroke=\"black\" points=\"1554.86,-103 1564.86,-99.5 1554.86,-96 1554.86,-103\"/>\n",
       "</g>\n",
       "<!-- 4532635024 -->\n",
       "<g id=\"node11\" class=\"node\">\n",
       "<title>4532635024</title>\n",
       "<polygon fill=\"none\" stroke=\"black\" points=\"628.5,-54.5 628.5,-90.5 813.75,-90.5 813.75,-54.5 628.5,-54.5\"/>\n",
       "<text text-anchor=\"middle\" x=\"638.38\" y=\"-67.7\" font-family=\"Times,serif\" font-size=\"14.00\"> </text>\n",
       "<polyline fill=\"none\" stroke=\"black\" points=\"648.25,-55 648.25,-90.5\"/>\n",
       "<text text-anchor=\"middle\" x=\"688.12\" y=\"-67.7\" font-family=\"Times,serif\" font-size=\"14.00\">data 0.5000</text>\n",
       "<polyline fill=\"none\" stroke=\"black\" points=\"728,-55 728,-90.5\"/>\n",
       "<text text-anchor=\"middle\" x=\"770.88\" y=\"-67.7\" font-family=\"Times,serif\" font-size=\"14.00\">grad &#45;1.0000</text>\n",
       "</g>\n",
       "<!-- 4532635024&#45;&gt;4532172816relu -->\n",
       "<g id=\"edge7\" class=\"edge\">\n",
       "<title>4532635024&#45;&gt;4532172816relu</title>\n",
       "<path fill=\"none\" stroke=\"black\" d=\"M814.15,-72.5C822.52,-72.5 830.64,-72.5 838.09,-72.5\"/>\n",
       "<polygon fill=\"black\" stroke=\"black\" points=\"838.03,-76 848.03,-72.5 838.03,-69 838.03,-76\"/>\n",
       "</g>\n",
       "<!-- 4532635024+&#45;&gt;4532635024 -->\n",
       "<g id=\"edge4\" class=\"edge\">\n",
       "<title>4532635024+&#45;&gt;4532635024</title>\n",
       "<path fill=\"none\" stroke=\"black\" d=\"M592.91,-72.5C599.95,-72.5 608,-72.5 616.55,-72.5\"/>\n",
       "<polygon fill=\"black\" stroke=\"black\" points=\"616.54,-76 626.54,-72.5 616.54,-69 616.54,-76\"/>\n",
       "</g>\n",
       "<!-- 4532642768 -->\n",
       "<g id=\"node13\" class=\"node\">\n",
       "<title>4532642768</title>\n",
       "<polygon fill=\"none\" stroke=\"black\" points=\"317.25,-27.5 317.25,-63.5 502.5,-63.5 502.5,-27.5 317.25,-27.5\"/>\n",
       "<text text-anchor=\"middle\" x=\"327.12\" y=\"-40.7\" font-family=\"Times,serif\" font-size=\"14.00\"> </text>\n",
       "<polyline fill=\"none\" stroke=\"black\" points=\"337,-28 337,-63.5\"/>\n",
       "<text text-anchor=\"middle\" x=\"376.88\" y=\"-40.7\" font-family=\"Times,serif\" font-size=\"14.00\">data 0.5000</text>\n",
       "<polyline fill=\"none\" stroke=\"black\" points=\"416.75,-28 416.75,-63.5\"/>\n",
       "<text text-anchor=\"middle\" x=\"459.62\" y=\"-40.7\" font-family=\"Times,serif\" font-size=\"14.00\">grad &#45;1.0000</text>\n",
       "</g>\n",
       "<!-- 4532642768&#45;&gt;4532635024+ -->\n",
       "<g id=\"edge10\" class=\"edge\">\n",
       "<title>4532642768&#45;&gt;4532635024+</title>\n",
       "<path fill=\"none\" stroke=\"black\" d=\"M502.9,-61.67C511.64,-63.21 520.11,-64.7 527.83,-66.05\"/>\n",
       "<polygon fill=\"black\" stroke=\"black\" points=\"526.95,-69.45 537.41,-67.74 528.16,-62.56 526.95,-69.45\"/>\n",
       "</g>\n",
       "<!-- 4532642768*&#45;&gt;4532642768 -->\n",
       "<g id=\"edge5\" class=\"edge\">\n",
       "<title>4532642768*&#45;&gt;4532642768</title>\n",
       "<path fill=\"none\" stroke=\"black\" d=\"M281.66,-45.5C288.7,-45.5 296.75,-45.5 305.3,-45.5\"/>\n",
       "<polygon fill=\"black\" stroke=\"black\" points=\"305.29,-49 315.29,-45.5 305.29,-42 305.29,-49\"/>\n",
       "</g>\n",
       "</g>\n",
       "</svg>\n"
      ],
      "text/plain": [
       "<graphviz.graphs.Digraph at 0x10c9b7fd0>"
      ]
     },
     "execution_count": 98,
     "metadata": {},
     "output_type": "execute_result"
    }
   ],
   "source": [
    "example = [[Value(1, label='x')], Value(1)]\n",
    "p = Perceptron([Value(0.5, label='w')])\n",
    "\n",
    "result = p.forward(example[0])\n",
    "this_loss = (result - example[1]).sq()\n",
    "print(f\"loss: {this_loss}\")\n",
    "this_loss.grad = 1.0\n",
    "this_loss.backprop()\n",
    "print(f\"gradient: {p.weights[0].grad}\")\n",
    "p.weights[0] = Value(p.weights[0].data - p.weights[0].grad * 0.1, label='w')\n",
    "print(f\"updated weight: {p.weights[0].data}\")\n",
    "\n",
    "draw_dot(this_loss)"
   ]
  },
  {
   "cell_type": "code",
   "execution_count": 93,
   "metadata": {},
   "outputs": [
    {
     "data": {
      "image/svg+xml": [
       "<?xml version=\"1.0\" encoding=\"UTF-8\" standalone=\"no\"?>\n",
       "<!DOCTYPE svg PUBLIC \"-//W3C//DTD SVG 1.1//EN\"\n",
       " \"http://www.w3.org/Graphics/SVG/1.1/DTD/svg11.dtd\">\n",
       "<!-- Generated by graphviz version 9.0.0 (20230911.1827)\n",
       " -->\n",
       "<!-- Pages: 1 -->\n",
       "<svg width=\"499pt\" height=\"45pt\"\n",
       " viewBox=\"0.00 0.00 499.25 45.00\" xmlns=\"http://www.w3.org/2000/svg\" xmlns:xlink=\"http://www.w3.org/1999/xlink\">\n",
       "<g id=\"graph0\" class=\"graph\" transform=\"scale(1 1) rotate(0) translate(4 41)\">\n",
       "<polygon fill=\"white\" stroke=\"none\" points=\"-4,4 -4,-41 495.25,-41 495.25,4 -4,4\"/>\n",
       "<!-- 4536264400 -->\n",
       "<g id=\"node1\" class=\"node\">\n",
       "<title>4536264400</title>\n",
       "<polygon fill=\"none\" stroke=\"black\" points=\"0,-0.5 0,-36.5 183.75,-36.5 183.75,-0.5 0,-0.5\"/>\n",
       "<text text-anchor=\"middle\" x=\"11.38\" y=\"-13.7\" font-family=\"Times,serif\" font-size=\"14.00\">x</text>\n",
       "<polyline fill=\"none\" stroke=\"black\" points=\"22.75,-1 22.75,-36.5\"/>\n",
       "<text text-anchor=\"middle\" x=\"62.62\" y=\"-13.7\" font-family=\"Times,serif\" font-size=\"14.00\">data 2.0000</text>\n",
       "<polyline fill=\"none\" stroke=\"black\" points=\"102.5,-1 102.5,-36.5\"/>\n",
       "<text text-anchor=\"middle\" x=\"143.12\" y=\"-13.7\" font-family=\"Times,serif\" font-size=\"14.00\">grad 4.0000</text>\n",
       "</g>\n",
       "<!-- 4536258128* -->\n",
       "<g id=\"node3\" class=\"node\">\n",
       "<title>4536258128*</title>\n",
       "<ellipse fill=\"none\" stroke=\"black\" cx=\"246.75\" cy=\"-18.5\" rx=\"27\" ry=\"18\"/>\n",
       "<text text-anchor=\"middle\" x=\"246.75\" y=\"-13.45\" font-family=\"Times,serif\" font-size=\"14.00\">*</text>\n",
       "</g>\n",
       "<!-- 4536264400&#45;&gt;4536258128* -->\n",
       "<g id=\"edge2\" class=\"edge\">\n",
       "<title>4536264400&#45;&gt;4536258128*</title>\n",
       "<path fill=\"none\" stroke=\"black\" d=\"M184.01,-18.5C192.39,-18.5 200.52,-18.5 207.98,-18.5\"/>\n",
       "<polygon fill=\"black\" stroke=\"black\" points=\"207.95,-22 217.95,-18.5 207.95,-15 207.95,-22\"/>\n",
       "</g>\n",
       "<!-- 4536258128 -->\n",
       "<g id=\"node2\" class=\"node\">\n",
       "<title>4536258128</title>\n",
       "<polygon fill=\"none\" stroke=\"black\" points=\"309.75,-0.5 309.75,-36.5 491.25,-36.5 491.25,-0.5 309.75,-0.5\"/>\n",
       "<text text-anchor=\"middle\" x=\"320\" y=\"-13.7\" font-family=\"Times,serif\" font-size=\"14.00\">f</text>\n",
       "<polyline fill=\"none\" stroke=\"black\" points=\"330.25,-1 330.25,-36.5\"/>\n",
       "<text text-anchor=\"middle\" x=\"370.12\" y=\"-13.7\" font-family=\"Times,serif\" font-size=\"14.00\">data 4.0000</text>\n",
       "<polyline fill=\"none\" stroke=\"black\" points=\"410,-1 410,-36.5\"/>\n",
       "<text text-anchor=\"middle\" x=\"450.62\" y=\"-13.7\" font-family=\"Times,serif\" font-size=\"14.00\">grad 1.0000</text>\n",
       "</g>\n",
       "<!-- 4536258128*&#45;&gt;4536258128 -->\n",
       "<g id=\"edge1\" class=\"edge\">\n",
       "<title>4536258128*&#45;&gt;4536258128</title>\n",
       "<path fill=\"none\" stroke=\"black\" d=\"M274.18,-18.5C281.35,-18.5 289.55,-18.5 298.26,-18.5\"/>\n",
       "<polygon fill=\"black\" stroke=\"black\" points=\"298.01,-22 308.01,-18.5 298.01,-15 298.01,-22\"/>\n",
       "</g>\n",
       "</g>\n",
       "</svg>\n"
      ],
      "text/plain": [
       "<graphviz.graphs.Digraph at 0x10cd07d10>"
      ]
     },
     "execution_count": 93,
     "metadata": {},
     "output_type": "execute_result"
    }
   ],
   "source": [
    "x = Value(2, label='x')\n",
    "f = x * x; f.label = 'f'\n",
    "f.grad = 1.0\n",
    "f.backprop()\n",
    "draw_dot(f)"
   ]
  },
  {
   "cell_type": "code",
   "execution_count": 94,
   "metadata": {},
   "outputs": [
    {
     "data": {
      "image/svg+xml": [
       "<?xml version=\"1.0\" encoding=\"UTF-8\" standalone=\"no\"?>\n",
       "<!DOCTYPE svg PUBLIC \"-//W3C//DTD SVG 1.1//EN\"\n",
       " \"http://www.w3.org/Graphics/SVG/1.1/DTD/svg11.dtd\">\n",
       "<!-- Generated by graphviz version 9.0.0 (20230911.1827)\n",
       " -->\n",
       "<!-- Pages: 1 -->\n",
       "<svg width=\"499pt\" height=\"45pt\"\n",
       " viewBox=\"0.00 0.00 499.25 45.00\" xmlns=\"http://www.w3.org/2000/svg\" xmlns:xlink=\"http://www.w3.org/1999/xlink\">\n",
       "<g id=\"graph0\" class=\"graph\" transform=\"scale(1 1) rotate(0) translate(4 41)\">\n",
       "<polygon fill=\"white\" stroke=\"none\" points=\"-4,4 -4,-41 495.25,-41 495.25,4 -4,4\"/>\n",
       "<!-- 4536258448 -->\n",
       "<g id=\"node1\" class=\"node\">\n",
       "<title>4536258448</title>\n",
       "<polygon fill=\"none\" stroke=\"black\" points=\"309.75,-0.5 309.75,-36.5 491.25,-36.5 491.25,-0.5 309.75,-0.5\"/>\n",
       "<text text-anchor=\"middle\" x=\"320\" y=\"-13.7\" font-family=\"Times,serif\" font-size=\"14.00\">f</text>\n",
       "<polyline fill=\"none\" stroke=\"black\" points=\"330.25,-1 330.25,-36.5\"/>\n",
       "<text text-anchor=\"middle\" x=\"370.12\" y=\"-13.7\" font-family=\"Times,serif\" font-size=\"14.00\">data 4.0000</text>\n",
       "<polyline fill=\"none\" stroke=\"black\" points=\"410,-1 410,-36.5\"/>\n",
       "<text text-anchor=\"middle\" x=\"450.62\" y=\"-13.7\" font-family=\"Times,serif\" font-size=\"14.00\">grad 1.0000</text>\n",
       "</g>\n",
       "<!-- 4536258448sq -->\n",
       "<g id=\"node2\" class=\"node\">\n",
       "<title>4536258448sq</title>\n",
       "<ellipse fill=\"none\" stroke=\"black\" cx=\"246.75\" cy=\"-18.5\" rx=\"27\" ry=\"18\"/>\n",
       "<text text-anchor=\"middle\" x=\"246.75\" y=\"-13.45\" font-family=\"Times,serif\" font-size=\"14.00\">sq</text>\n",
       "</g>\n",
       "<!-- 4536258448sq&#45;&gt;4536258448 -->\n",
       "<g id=\"edge1\" class=\"edge\">\n",
       "<title>4536258448sq&#45;&gt;4536258448</title>\n",
       "<path fill=\"none\" stroke=\"black\" d=\"M274.18,-18.5C281.35,-18.5 289.55,-18.5 298.26,-18.5\"/>\n",
       "<polygon fill=\"black\" stroke=\"black\" points=\"298.01,-22 308.01,-18.5 298.01,-15 298.01,-22\"/>\n",
       "</g>\n",
       "<!-- 4536262672 -->\n",
       "<g id=\"node3\" class=\"node\">\n",
       "<title>4536262672</title>\n",
       "<polygon fill=\"none\" stroke=\"black\" points=\"0,-0.5 0,-36.5 183.75,-36.5 183.75,-0.5 0,-0.5\"/>\n",
       "<text text-anchor=\"middle\" x=\"11.38\" y=\"-13.7\" font-family=\"Times,serif\" font-size=\"14.00\">x</text>\n",
       "<polyline fill=\"none\" stroke=\"black\" points=\"22.75,-1 22.75,-36.5\"/>\n",
       "<text text-anchor=\"middle\" x=\"62.62\" y=\"-13.7\" font-family=\"Times,serif\" font-size=\"14.00\">data 2.0000</text>\n",
       "<polyline fill=\"none\" stroke=\"black\" points=\"102.5,-1 102.5,-36.5\"/>\n",
       "<text text-anchor=\"middle\" x=\"143.12\" y=\"-13.7\" font-family=\"Times,serif\" font-size=\"14.00\">grad 4.0000</text>\n",
       "</g>\n",
       "<!-- 4536262672&#45;&gt;4536258448sq -->\n",
       "<g id=\"edge2\" class=\"edge\">\n",
       "<title>4536262672&#45;&gt;4536258448sq</title>\n",
       "<path fill=\"none\" stroke=\"black\" d=\"M184.01,-18.5C192.39,-18.5 200.52,-18.5 207.98,-18.5\"/>\n",
       "<polygon fill=\"black\" stroke=\"black\" points=\"207.95,-22 217.95,-18.5 207.95,-15 207.95,-22\"/>\n",
       "</g>\n",
       "</g>\n",
       "</svg>\n"
      ],
      "text/plain": [
       "<graphviz.graphs.Digraph at 0x10e61d250>"
      ]
     },
     "execution_count": 94,
     "metadata": {},
     "output_type": "execute_result"
    }
   ],
   "source": [
    "x = Value(2, label='x')\n",
    "f = x.sq(); f.label = 'f'\n",
    "f.grad = 1.0\n",
    "f.backprop()\n",
    "draw_dot(f)"
   ]
  },
  {
   "cell_type": "markdown",
   "metadata": {},
   "source": [
    "# Additional Thoughts and Notes\n",
    "\n",
    "## Why not use numerical differentiation?\n",
    "I mean autograd is super cool but does it not work to do the bump and re-eval?\n",
    "\n",
    "Potential answer - you need to evaluate the entire path forward in the graph after bumping each weight. So the number of nn forward eval (which must scale at best linearly with the number of weights) would scale at n or maybe log n. Seems like it's going to be inefficient.\n",
    "\n",
    "Should still work though I think.\n",
    "\n",
    "## Why not use a step activation function? Not continuous but relu also isn't differentiable at 0\n",
    "\n",
    "## How do we do autodiff on nodes that are repeated?\n",
    "For e.g. if our graph is $f = x.x$ instead of $f = x^2$\n",
    "\n",
    "It seems like adding the grads works but I'm not completely sure why."
   ]
  },
  {
   "cell_type": "markdown",
   "metadata": {},
   "source": []
  }
 ],
 "metadata": {
  "kernelspec": {
   "display_name": "Python 3",
   "language": "python",
   "name": "python3"
  },
  "language_info": {
   "codemirror_mode": {
    "name": "ipython",
    "version": 3
   },
   "file_extension": ".py",
   "mimetype": "text/x-python",
   "name": "python",
   "nbconvert_exporter": "python",
   "pygments_lexer": "ipython3",
   "version": "3.11.7"
  }
 },
 "nbformat": 4,
 "nbformat_minor": 2
}
