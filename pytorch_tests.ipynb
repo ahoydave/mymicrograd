{
 "cells": [
  {
   "cell_type": "code",
   "execution_count": 1,
   "metadata": {},
   "outputs": [
    {
     "name": "stdout",
     "output_type": "stream",
     "text": [
      "Requirement already satisfied: torch in ./.conda/lib/python3.11/site-packages (2.2.1)\n",
      "Requirement already satisfied: filelock in ./.conda/lib/python3.11/site-packages (from torch) (3.13.1)\n",
      "Requirement already satisfied: typing-extensions>=4.8.0 in ./.conda/lib/python3.11/site-packages (from torch) (4.9.0)\n",
      "Requirement already satisfied: sympy in ./.conda/lib/python3.11/site-packages (from torch) (1.12)\n",
      "Requirement already satisfied: networkx in ./.conda/lib/python3.11/site-packages (from torch) (3.2.1)\n",
      "Requirement already satisfied: jinja2 in ./.conda/lib/python3.11/site-packages (from torch) (3.1.3)\n",
      "Requirement already satisfied: fsspec in ./.conda/lib/python3.11/site-packages (from torch) (2024.2.0)\n",
      "Requirement already satisfied: MarkupSafe>=2.0 in ./.conda/lib/python3.11/site-packages (from jinja2->torch) (2.1.5)\n",
      "Requirement already satisfied: mpmath>=0.19 in ./.conda/lib/python3.11/site-packages (from sympy->torch) (1.3.0)\n",
      "Note: you may need to restart the kernel to use updated packages.\n"
     ]
    }
   ],
   "source": [
    "%pip install torch"
   ]
  },
  {
   "cell_type": "code",
   "execution_count": 11,
   "metadata": {},
   "outputs": [],
   "source": [
    "import torch\n",
    "import torch.nn as nn\n",
    "import torch.optim as optim\n",
    "\n",
    "import matplotlib.pyplot as plt"
   ]
  },
  {
   "cell_type": "code",
   "execution_count": 28,
   "metadata": {},
   "outputs": [],
   "source": [
    "input_size = 2"
   ]
  },
  {
   "cell_type": "code",
   "execution_count": 33,
   "metadata": {},
   "outputs": [],
   "source": [
    "class SumNet(nn.Module):\n",
    "    def __init__(self, layer_sizes: list[int]):\n",
    "        super(SumNet, self).__init__()\n",
    "        layers = []\n",
    "        assert len(layer_sizes) > 0, \"One layer needed for input\"\n",
    "        for i in range(len(layer_sizes) - 1):\n",
    "            layers.append(nn.Linear(layer_sizes[i], layer_sizes[i+1]))\n",
    "            layers.append(nn.ReLU())\n",
    "        layers.append(nn.Linear(layer_sizes[-1], 1))\n",
    "        self.model = nn.Sequential(*layers)\n",
    "\n",
    "    def forward(self, x):\n",
    "        return self.model(x)"
   ]
  },
  {
   "cell_type": "code",
   "execution_count": 34,
   "metadata": {},
   "outputs": [
    {
     "name": "stdout",
     "output_type": "stream",
     "text": [
      "[Linear(in_features=2, out_features=10, bias=True), ReLU(), Linear(in_features=10, out_features=1, bias=True)]\n",
      "Epoch 1, Loss: 1.0627985000610352\n",
      "Epoch 2, Loss: 0.9956619739532471\n",
      "Epoch 3, Loss: 0.9321956634521484\n",
      "Epoch 4, Loss: 0.8722440600395203\n",
      "Epoch 5, Loss: 0.8156618475914001\n",
      "Epoch 6, Loss: 0.7623118758201599\n",
      "Epoch 7, Loss: 0.7120630145072937\n",
      "Epoch 8, Loss: 0.6647899746894836\n",
      "Epoch 9, Loss: 0.6203713417053223\n",
      "Epoch 10, Loss: 0.5786889791488647\n",
      "Epoch 11, Loss: 0.5396273136138916\n",
      "Epoch 12, Loss: 0.5030731558799744\n",
      "Epoch 13, Loss: 0.46891531348228455\n",
      "Epoch 14, Loss: 0.4370437562465668\n",
      "Epoch 15, Loss: 0.4073503315448761\n",
      "Epoch 16, Loss: 0.3797284662723541\n",
      "Epoch 17, Loss: 0.35407307744026184\n",
      "Epoch 18, Loss: 0.33028095960617065\n",
      "Epoch 19, Loss: 0.3082506060600281\n",
      "Epoch 20, Loss: 0.28788280487060547\n",
      "Epoch 21, Loss: 0.2690805494785309\n",
      "Epoch 22, Loss: 0.25174960494041443\n",
      "Epoch 23, Loss: 0.23579852283000946\n",
      "Epoch 24, Loss: 0.22113873064517975\n",
      "Epoch 25, Loss: 0.20768478512763977\n",
      "Epoch 26, Loss: 0.1953544169664383\n",
      "Epoch 27, Loss: 0.18406903743743896\n",
      "Epoch 28, Loss: 0.17375341057777405\n",
      "Epoch 29, Loss: 0.16433604061603546\n",
      "Epoch 30, Loss: 0.15574906766414642\n",
      "Epoch 31, Loss: 0.1479281783103943\n",
      "Epoch 32, Loss: 0.14081279933452606\n",
      "Epoch 33, Loss: 0.13434597849845886\n",
      "Epoch 34, Loss: 0.12847428023815155\n",
      "Epoch 35, Loss: 0.12314774841070175\n",
      "Epoch 36, Loss: 0.11831982433795929\n",
      "Epoch 37, Loss: 0.11394717544317245\n",
      "Epoch 38, Loss: 0.10998956114053726\n",
      "Epoch 39, Loss: 0.10640976577997208\n",
      "Epoch 40, Loss: 0.10317348688840866\n",
      "Epoch 41, Loss: 0.10024900734424591\n",
      "Epoch 42, Loss: 0.09760718047618866\n",
      "Epoch 43, Loss: 0.09522131085395813\n",
      "Epoch 44, Loss: 0.09306690841913223\n",
      "Epoch 45, Loss: 0.0911216288805008\n",
      "Epoch 46, Loss: 0.08936497569084167\n",
      "Epoch 47, Loss: 0.08777838945388794\n",
      "Epoch 48, Loss: 0.08634492754936218\n",
      "Epoch 49, Loss: 0.08504921197891235\n",
      "Epoch 50, Loss: 0.08387727290391922\n",
      "Epoch 51, Loss: 0.08281651884317398\n",
      "Epoch 52, Loss: 0.08185550570487976\n",
      "Epoch 53, Loss: 0.08098388463258743\n",
      "Epoch 54, Loss: 0.08019238710403442\n",
      "Epoch 55, Loss: 0.07947259396314621\n",
      "Epoch 56, Loss: 0.0788169577717781\n",
      "Epoch 57, Loss: 0.07821865379810333\n",
      "Epoch 58, Loss: 0.07767157256603241\n",
      "Epoch 59, Loss: 0.07717026025056839\n",
      "Epoch 60, Loss: 0.07670976221561432\n",
      "Epoch 61, Loss: 0.0762857049703598\n",
      "Epoch 62, Loss: 0.07589410245418549\n",
      "Epoch 63, Loss: 0.07553143054246902\n",
      "Epoch 64, Loss: 0.07519454509019852\n",
      "Epoch 65, Loss: 0.07488058507442474\n",
      "Epoch 66, Loss: 0.07458709180355072\n",
      "Epoch 67, Loss: 0.0743117704987526\n",
      "Epoch 68, Loss: 0.0740525871515274\n",
      "Epoch 69, Loss: 0.07380780577659607\n",
      "Epoch 70, Loss: 0.07357578724622726\n",
      "Epoch 71, Loss: 0.07335515320301056\n",
      "Epoch 72, Loss: 0.0731445848941803\n",
      "Epoch 73, Loss: 0.07294300198554993\n",
      "Epoch 74, Loss: 0.07274939119815826\n",
      "Epoch 75, Loss: 0.07256283611059189\n",
      "Epoch 76, Loss: 0.07238257676362991\n",
      "Epoch 77, Loss: 0.07220789045095444\n",
      "Epoch 78, Loss: 0.07203815877437592\n",
      "Epoch 79, Loss: 0.07187283039093018\n",
      "Epoch 80, Loss: 0.07171142101287842\n",
      "Epoch 81, Loss: 0.07155347615480423\n",
      "Epoch 82, Loss: 0.07139861583709717\n",
      "Epoch 83, Loss: 0.07124646008014679\n",
      "Epoch 84, Loss: 0.07109677791595459\n",
      "Epoch 85, Loss: 0.0709492489695549\n",
      "Epoch 86, Loss: 0.07080364227294922\n",
      "Epoch 87, Loss: 0.07065974920988083\n",
      "Epoch 88, Loss: 0.0705173909664154\n",
      "Epoch 89, Loss: 0.07037637382745743\n",
      "Epoch 90, Loss: 0.07023658603429794\n",
      "Epoch 91, Loss: 0.07009784877300262\n",
      "Epoch 92, Loss: 0.0699601098895073\n",
      "Epoch 93, Loss: 0.06982322782278061\n",
      "Epoch 94, Loss: 0.06968710571527481\n",
      "Epoch 95, Loss: 0.06955167651176453\n",
      "Epoch 96, Loss: 0.06941687315702438\n",
      "Epoch 97, Loss: 0.06928262114524841\n",
      "Epoch 98, Loss: 0.06914887577295303\n",
      "Epoch 99, Loss: 0.06901559233665466\n",
      "Epoch 100, Loss: 0.06888271123170853\n"
     ]
    },
    {
     "data": {
      "text/plain": [
       "[<matplotlib.lines.Line2D at 0x176f04990>]"
      ]
     },
     "execution_count": 34,
     "metadata": {},
     "output_type": "execute_result"
    },
    {
     "data": {
      "image/png": "[encoded data removed]",
      "text/plain": [
       "<Figure size 640x480 with 1 Axes>"
      ]
     },
     "metadata": {},
     "output_type": "display_data"
    }
   ],
   "source": [
    "net = SumNet([input_size, 10])\n",
    "criterion = nn.MSELoss()\n",
    "optimizer = optim.SGD(net.parameters(), lr=0.01)\n",
    "\n",
    "x_train = torch.rand(1000, input_size)\n",
    "y_train = x_train.sum(dim=1, keepdim=True) \n",
    "\n",
    "losses = []\n",
    "\n",
    "for epoch in range(100):\n",
    "    optimizer.zero_grad()\n",
    "    outputs = net(x_train)\n",
    "    loss = criterion(outputs, y_train)\n",
    "    loss.backward()\n",
    "    optimizer.step()\n",
    "\n",
    "    print(f'Epoch {epoch+1}, Loss: {loss.item()}')\n",
    "    losses.append(loss.item())\n",
    "\n",
    "plt.plot(losses)"
   ]
  },
  {
   "cell_type": "code",
   "execution_count": null,
   "metadata": {},
   "outputs": [],
   "source": []
  }
 ],
 "metadata": {
  "kernelspec": {
   "display_name": "Python 3",
   "language": "python",
   "name": "python3"
  },
  "language_info": {
   "codemirror_mode": {
    "name": "ipython",
    "version": 3
   },
   "file_extension": ".py",
   "mimetype": "text/x-python",
   "name": "python",
   "nbconvert_exporter": "python",
   "pygments_lexer": "ipython3",
   "version": "3.11.7"
  }
 },
 "nbformat": 4,
 "nbformat_minor": 2
}
